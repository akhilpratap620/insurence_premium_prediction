{
 "cells": [
  {
   "cell_type": "code",
   "execution_count": 1,
   "metadata": {},
   "outputs": [],
   "source": [
    "from insurence_premium.constant import *\n",
    "from insurence_premium.cassandra_db.cassandra_db import CassandraDatabaseManager\n",
    "from cassandra.cluster import Cluster\n",
    "from insurence_premium.component.data_ingestion import DataIngestion\n",
    "from cassandra.auth import PlainTextAuthProvider \n",
    "from insurence_premium.util.util import read_yaml\n",
    "from insurence_premium.exception import PremiumException\n",
    "from insurence_premium.entity.config_entity import DataIngestionConfig\n",
    "from insurence_premium.config.configuration import  Configuration"
   ]
  },
  {
   "cell_type": "code",
   "execution_count": 3,
   "metadata": {},
   "outputs": [],
   "source": [
    "config_file_path='c:\\\\Users\\\\somit\\\\Downloads\\\\project_ineuron\\\\insurence_premium_prediction\\\\config\\\\config.yaml'"
   ]
  },
  {
   "cell_type": "code",
   "execution_count": 4,
   "metadata": {},
   "outputs": [],
   "source": [
    "con=Configuration(config_file_path)"
   ]
  },
  {
   "cell_type": "code",
   "execution_count": 5,
   "metadata": {},
   "outputs": [
    {
     "data": {
      "text/plain": [
       "'c:\\\\Users\\\\somit\\\\Downloads\\\\project_ineuron\\\\insurence_premium_prediction\\\\notebook\\\\insurence_premium\\\\artifact\\\\data_ingestion\\\\2023-01-27-15-20-31\\\\raw_data'"
      ]
     },
     "execution_count": 5,
     "metadata": {},
     "output_type": "execute_result"
    }
   ],
   "source": [
    "con.get_data_ingestion_config().raw_data"
   ]
  },
  {
   "cell_type": "code",
   "execution_count": 3,
   "metadata": {},
   "outputs": [],
   "source": [
    "db_file_path='c:\\\\Users\\\\somit\\\\Downloads\\\\project_ineuron\\\\insurence_premium_prediction\\\\config\\\\cassandra_db.yaml'"
   ]
  },
  {
   "cell_type": "markdown",
   "metadata": {},
   "source": []
  },
  {
   "cell_type": "code",
   "execution_count": 10,
   "metadata": {},
   "outputs": [
    {
     "data": {
      "text/plain": [
       "'c:\\\\Users\\\\somit\\\\Downloads\\\\project_ineuron\\\\insurence_premium_prediction\\\\notebook'"
      ]
     },
     "execution_count": 10,
     "metadata": {},
     "output_type": "execute_result"
    }
   ],
   "source": [
    "os.getcwd()"
   ]
  },
  {
   "cell_type": "code",
   "execution_count": 6,
   "metadata": {},
   "outputs": [
    {
     "data": {
      "text/plain": [
       "'c:\\\\Users\\\\somit\\\\Downloads\\\\project_ineuron\\\\insurence_premium_prediction\\\\notebook\\\\insurence_premium\\\\artifact\\\\data_ingestion\\\\2023-01-27-15-20-31\\\\raw_data\\\\insurence_premium'"
      ]
     },
     "execution_count": 6,
     "metadata": {},
     "output_type": "execute_result"
    }
   ],
   "source": [
    "DataIngestion(data_ingestion_config=con.get_data_ingestion_config()).download_data()"
   ]
  },
  {
   "cell_type": "code",
   "execution_count": 13,
   "metadata": {},
   "outputs": [
    {
     "data": {
      "text/plain": [
       "insurence_premium.entity.config_entity.DataIngestionConfig"
      ]
     },
     "execution_count": 13,
     "metadata": {},
     "output_type": "execute_result"
    }
   ],
   "source": [
    "a.data_ingestion_config"
   ]
  },
  {
   "cell_type": "code",
   "execution_count": 17,
   "metadata": {},
   "outputs": [
    {
     "data": {
      "text/plain": [
       "{'training_pipeline_config': {'pipeline_name': 'insurence_premium',\n",
       "  'artifact_dir': 'artifact'},\n",
       " 'data_ingestion_config': {'dataset_download_url': 'https://archive.ics.uci.edu/ml/machine-learning-databases/00291/airfoil_self_noise.dat',\n",
       "  'raw_data_dir': 'raw_data',\n",
       "  'ingested_dir': 'ingested_data',\n",
       "  'ingested_train_dir': 'train',\n",
       "  'ingested_test_dir': 'test'}}"
      ]
     },
     "execution_count": 17,
     "metadata": {},
     "output_type": "execute_result"
    }
   ],
   "source": [
    "read_yaml(file_path=r'c:\\\\Users\\\\somit\\\\Downloads\\\\project_ineuron\\\\insurence_premium_prediction\\\\config\\\\config.yaml')"
   ]
  },
  {
   "cell_type": "code",
   "execution_count": 34,
   "metadata": {},
   "outputs": [],
   "source": [
    "a=CassandraDatabaseManager(db_file_path='c:\\\\Users\\\\somit\\\\Downloads\\\\project_ineuron\\\\insurence_premium_prediction\\\\config\\\\cassandra_db.yaml')"
   ]
  },
  {
   "cell_type": "code",
   "execution_count": null,
   "metadata": {},
   "outputs": [],
   "source": [
    "a."
   ]
  },
  {
   "cell_type": "code",
   "execution_count": 18,
   "metadata": {},
   "outputs": [],
   "source": [
    "from insurence_premium.config.configuration import Configuration"
   ]
  },
  {
   "cell_type": "code",
   "execution_count": 18,
   "metadata": {},
   "outputs": [],
   "source": [
    "config_file_path='c:\\\\Users\\\\somit\\\\Downloads\\\\project_ineuron\\\\insurence_premium_prediction\\\\config\\\\config.yaml'"
   ]
  },
  {
   "cell_type": "code",
   "execution_count": 6,
   "metadata": {},
   "outputs": [
    {
     "ename": "NameError",
     "evalue": "name 'self' is not defined",
     "output_type": "error",
     "traceback": [
      "\u001b[1;31m---------------------------------------------------------------------------\u001b[0m",
      "\u001b[1;31mNameError\u001b[0m                                 Traceback (most recent call last)",
      "\u001b[1;32m~\\AppData\\Local\\Temp\\ipykernel_3768\\3603143986.py\u001b[0m in \u001b[0;36m<module>\u001b[1;34m\u001b[0m\n\u001b[1;32m----> 1\u001b[1;33m \u001b[0mself\u001b[0m\u001b[1;33m.\u001b[0m\u001b[0mdata_ingestion_config\u001b[0m\u001b[1;33m=\u001b[0m\u001b[0mDataIngestionConfig\u001b[0m\u001b[1;33m\u001b[0m\u001b[0m\n\u001b[0m",
      "\u001b[1;31mNameError\u001b[0m: name 'self' is not defined"
     ]
    }
   ],
   "source": [
    "data_ingestion_config=DataIngestionConfig"
   ]
  },
  {
   "cell_type": "code",
   "execution_count": 21,
   "metadata": {},
   "outputs": [],
   "source": [
    "import sys ,os\n",
    "data_ingestion_config=Configuration(config_file_path=config_file_path).get_data_ingestion_config()\n",
    "logging.info(\"data_ingestion_config:{data_ingestion_config}\")\n"
   ]
  },
  {
   "cell_type": "code",
   "execution_count": 22,
   "metadata": {},
   "outputs": [],
   "source": [
    "import csv"
   ]
  },
  {
   "cell_type": "code",
   "execution_count": 15,
   "metadata": {},
   "outputs": [
    {
     "ename": "NameError",
     "evalue": "name 'read_yaml' is not defined",
     "output_type": "error",
     "traceback": [
      "\u001b[1;31m---------------------------------------------------------------------------\u001b[0m",
      "\u001b[1;31mNameError\u001b[0m                                 Traceback (most recent call last)",
      "\u001b[1;32m~\\AppData\\Local\\Temp\\ipykernel_8476\\3796253696.py\u001b[0m in \u001b[0;36m<module>\u001b[1;34m\u001b[0m\n\u001b[1;32m----> 1\u001b[1;33m \u001b[0mdb_info\u001b[0m\u001b[1;33m=\u001b[0m\u001b[0mread_yaml\u001b[0m\u001b[1;33m(\u001b[0m\u001b[1;34m'c:\\\\Users\\\\somit\\\\Downloads\\\\project_ineuron\\\\insurence_premium_prediction\\\\config\\\\cassandra_db.yaml'\u001b[0m\u001b[1;33m)\u001b[0m\u001b[1;33m\u001b[0m\u001b[0m\n\u001b[0m",
      "\u001b[1;31mNameError\u001b[0m: name 'read_yaml' is not defined"
     ]
    }
   ],
   "source": [
    "db_info=read_yaml('c:\\\\Users\\\\somit\\\\Downloads\\\\project_ineuron\\\\insurence_premium_prediction\\\\config\\\\cassandra_db.yaml')"
   ]
  },
  {
   "cell_type": "code",
   "execution_count": 30,
   "metadata": {},
   "outputs": [
    {
     "name": "stdout",
     "output_type": "stream",
     "text": [
      "Row(age=28, sex='female', bmi=Decimal('25.9'), children=1, smoker='no', region='northwest', expenses=Decimal('4133.64'))\n"
     ]
    },
    {
     "name": "stderr",
     "output_type": "stream",
     "text": [
      "c:\\USERS\\SOMIT\\DOWNLOADS\\PROJECT_INEURON\\INSURENCE_PREMIUM_PREDICTION\\VENV_N\\lib\\site-packages\\ipykernel_launcher.py:13: DeprecationWarning: ResultSet indexing support will be removed in 4.0. Consider using ResultSet.one() to get a single row.\n",
      "  del sys.path[0]\n"
     ]
    }
   ],
   "source": [
    "from cassandra.cluster import Cluster\n",
    "from cassandra.auth import PlainTextAuthProvider\n",
    "\n",
    "cloud_config= {\n",
    "         'secure_connect_bundle': db_info[SECRET_BUNDLE_KEY]\n",
    "}\n",
    "auth_provider = PlainTextAuthProvider(db_info[CLIENT_ID_KEY], db_info[CLIENT_SECRET_KEY])\n",
    "cluster = Cluster(cloud=cloud_config, auth_provider=auth_provider)\n",
    "session = cluster.connect(\"new_row\")\n",
    "\n",
    "row=session.execute('SELECT * FROM insurance')\n",
    "if row:\n",
    "      print(row[0])\n",
    "else:\n",
    "      print(\"An error occurred.\")"
   ]
  },
  {
   "cell_type": "code",
   "execution_count": 25,
   "metadata": {},
   "outputs": [
    {
     "ename": "NoHostAvailable",
     "evalue": "(\"Unable to connect to any servers using keyspace 'insurance'\", ['a2431764-f2cb-4174-911f-3dfd57df326f-asia-south1.db.astra.datastax.com', 'a2431764-f2cb-4174-911f-3dfd57df326f-asia-south1.db.astra.datastax.com', 'a2431764-f2cb-4174-911f-3dfd57df326f-asia-south1.db.astra.datastax.com'])",
     "output_type": "error",
     "traceback": [
      "\u001b[1;31m---------------------------------------------------------------------------\u001b[0m",
      "\u001b[1;31mNoHostAvailable\u001b[0m                           Traceback (most recent call last)",
      "\u001b[1;32m~\\AppData\\Local\\Temp\\ipykernel_13812\\711226552.py\u001b[0m in \u001b[0;36m<module>\u001b[1;34m\u001b[0m\n\u001b[0;32m      4\u001b[0m \u001b[0mauth_provider\u001b[0m \u001b[1;33m=\u001b[0m \u001b[0mPlainTextAuthProvider\u001b[0m\u001b[1;33m(\u001b[0m\u001b[0mdb_info\u001b[0m\u001b[1;33m[\u001b[0m\u001b[0mCLIENT_ID_KEY\u001b[0m\u001b[1;33m]\u001b[0m\u001b[1;33m,\u001b[0m \u001b[0mdb_info\u001b[0m\u001b[1;33m[\u001b[0m\u001b[0mCLIENT_SECRET_KEY\u001b[0m\u001b[1;33m]\u001b[0m\u001b[1;33m)\u001b[0m\u001b[1;33m\u001b[0m\u001b[0m\n\u001b[0;32m      5\u001b[0m \u001b[0mcluster\u001b[0m \u001b[1;33m=\u001b[0m \u001b[0mCluster\u001b[0m\u001b[1;33m(\u001b[0m\u001b[0mcloud\u001b[0m\u001b[1;33m=\u001b[0m\u001b[0mcloud_config\u001b[0m\u001b[1;33m,\u001b[0m \u001b[0mauth_provider\u001b[0m\u001b[1;33m=\u001b[0m\u001b[0mauth_provider\u001b[0m\u001b[1;33m)\u001b[0m\u001b[1;33m\u001b[0m\u001b[0m\n\u001b[1;32m----> 6\u001b[1;33m \u001b[0msession\u001b[0m \u001b[1;33m=\u001b[0m \u001b[0mcluster\u001b[0m\u001b[1;33m.\u001b[0m\u001b[0mconnect\u001b[0m\u001b[1;33m(\u001b[0m\u001b[1;34m\"insurance\"\u001b[0m\u001b[1;33m)\u001b[0m\u001b[1;33m\u001b[0m\u001b[0m\n\u001b[0m\u001b[0;32m      7\u001b[0m \u001b[0mrow\u001b[0m\u001b[1;33m=\u001b[0m\u001b[0msession\u001b[0m\u001b[1;33m.\u001b[0m\u001b[0mexecute\u001b[0m\u001b[1;33m(\u001b[0m\u001b[1;34m'SELECT * FROM new_row'\u001b[0m\u001b[1;33m)\u001b[0m\u001b[1;33m\u001b[0m\u001b[0m\n",
      "\u001b[1;32mc:\\USERS\\SOMIT\\DOWNLOADS\\PROJECT_INEURON\\INSURENCE_PREMIUM_PREDICTION\\VENV_N\\lib\\site-packages\\cassandra\\cluster.cp37-win_amd64.pyd\u001b[0m in \u001b[0;36mcassandra.cluster.Cluster.connect\u001b[1;34m()\u001b[0m\n",
      "\u001b[1;32mc:\\USERS\\SOMIT\\DOWNLOADS\\PROJECT_INEURON\\INSURENCE_PREMIUM_PREDICTION\\VENV_N\\lib\\site-packages\\cassandra\\cluster.cp37-win_amd64.pyd\u001b[0m in \u001b[0;36mcassandra.cluster.Cluster._new_session\u001b[1;34m()\u001b[0m\n",
      "\u001b[1;32mc:\\USERS\\SOMIT\\DOWNLOADS\\PROJECT_INEURON\\INSURENCE_PREMIUM_PREDICTION\\VENV_N\\lib\\site-packages\\cassandra\\cluster.cp37-win_amd64.pyd\u001b[0m in \u001b[0;36mcassandra.cluster.Session.__init__\u001b[1;34m()\u001b[0m\n",
      "\u001b[1;31mNoHostAvailable\u001b[0m: (\"Unable to connect to any servers using keyspace 'insurance'\", ['a2431764-f2cb-4174-911f-3dfd57df326f-asia-south1.db.astra.datastax.com', 'a2431764-f2cb-4174-911f-3dfd57df326f-asia-south1.db.astra.datastax.com', 'a2431764-f2cb-4174-911f-3dfd57df326f-asia-south1.db.astra.datastax.com'])"
     ]
    }
   ],
   "source": [
    "            cloud_config= {\n",
    "            'secure_connect_bundle': 'C:\\\\Users\\somit\\Downloads\\project_ineuron\\insurence_premium_prediction\\insurence_premium\\cassandra_db\\secure-connect-akhil.zip'\n",
    "            }\n",
    "            auth_provider = PlainTextAuthProvider(db_info[CLIENT_ID_KEY], db_info[CLIENT_SECRET_KEY])\n",
    "            cluster = Cluster(cloud=cloud_config, auth_provider=auth_provider)\n",
    "            session = cluster.connect(\"insurance\")\n",
    "            row=session.execute('SELECT * FROM new_row')"
   ]
  },
  {
   "cell_type": "code",
   "execution_count": null,
   "metadata": {},
   "outputs": [],
   "source": []
  },
  {
   "cell_type": "code",
   "execution_count": null,
   "metadata": {},
   "outputs": [],
   "source": []
  },
  {
   "cell_type": "code",
   "execution_count": 23,
   "metadata": {},
   "outputs": [
    {
     "ename": "NoHostAvailable",
     "evalue": "('Unable to connect to any servers', {'a2431764-f2cb-4174-911f-3dfd57df326f-asia-south1.db.astra.datastax.com:29042:e61f2720-99f2-4c73-8a4b-609584efb68d': AuthenticationFailed('Failed to authenticate to a2431764-f2cb-4174-911f-3dfd57df326f-asia-south1.db.astra.datastax.com:29042:e61f2720-99f2-4c73-8a4b-609584efb68d: Error from server: code=0100 [Bad credentials] message=\"We recently improved your database security. To find out more and reconnect, see https://docs.datastax.com/en/astra/docs/manage-application-tokens.html\"'), 'a2431764-f2cb-4174-911f-3dfd57df326f-asia-south1.db.astra.datastax.com:29042:a685e584-612b-44d2-b0dd-b2ace34ce3f2': AuthenticationFailed('Failed to authenticate to a2431764-f2cb-4174-911f-3dfd57df326f-asia-south1.db.astra.datastax.com:29042:a685e584-612b-44d2-b0dd-b2ace34ce3f2: Error from server: code=0100 [Bad credentials] message=\"We recently improved your database security. To find out more and reconnect, see https://docs.datastax.com/en/astra/docs/manage-application-tokens.html\"'), 'a2431764-f2cb-4174-911f-3dfd57df326f-asia-south1.db.astra.datastax.com:29042:aaeebc27-e273-435c-ab56-bd56c3080ad6': AuthenticationFailed('Failed to authenticate to a2431764-f2cb-4174-911f-3dfd57df326f-asia-south1.db.astra.datastax.com:29042:aaeebc27-e273-435c-ab56-bd56c3080ad6: Error from server: code=0100 [Bad credentials] message=\"We recently improved your database security. To find out more and reconnect, see https://docs.datastax.com/en/astra/docs/manage-application-tokens.html\"')})",
     "output_type": "error",
     "traceback": [
      "\u001b[1;31m---------------------------------------------------------------------------\u001b[0m",
      "\u001b[1;31mNoHostAvailable\u001b[0m                           Traceback (most recent call last)",
      "\u001b[1;32m~\\AppData\\Local\\Temp\\ipykernel_19700\\1398911466.py\u001b[0m in \u001b[0;36m<module>\u001b[1;34m\u001b[0m\n\u001b[0;32m      7\u001b[0m \u001b[0mauth_provider\u001b[0m \u001b[1;33m=\u001b[0m \u001b[0mPlainTextAuthProvider\u001b[0m\u001b[1;33m(\u001b[0m\u001b[1;34m'dNhSZHWgspNIBDDUZEepgJYH'\u001b[0m\u001b[1;33m,\u001b[0m \u001b[1;34m'ZhjlX.mZvbaR,zIIgtEu6D0PvQPW9q.Rq4wbY9P+BureO,Z2BsJOlX6LwiKepIIEcl.icH_fhhe7uFCzI-qHZylfMujsbKTKmcUZq8uxpcMH4kqYTkli-RpG5nw-SUi9 '\u001b[0m\u001b[1;33m)\u001b[0m\u001b[1;33m\u001b[0m\u001b[0m\n\u001b[0;32m      8\u001b[0m \u001b[0mcluster\u001b[0m \u001b[1;33m=\u001b[0m \u001b[0mCluster\u001b[0m\u001b[1;33m(\u001b[0m\u001b[0mcloud\u001b[0m\u001b[1;33m=\u001b[0m\u001b[0mcloud_config\u001b[0m\u001b[1;33m,\u001b[0m \u001b[0mauth_provider\u001b[0m\u001b[1;33m=\u001b[0m\u001b[0mauth_provider\u001b[0m\u001b[1;33m)\u001b[0m\u001b[1;33m\u001b[0m\u001b[0m\n\u001b[1;32m----> 9\u001b[1;33m \u001b[0msession\u001b[0m \u001b[1;33m=\u001b[0m \u001b[0mcluster\u001b[0m\u001b[1;33m.\u001b[0m\u001b[0mconnect\u001b[0m\u001b[1;33m(\u001b[0m\u001b[1;33m)\u001b[0m\u001b[1;33m\u001b[0m\u001b[0m\n\u001b[0m\u001b[0;32m     10\u001b[0m \u001b[1;33m\u001b[0m\u001b[0m\n\u001b[0;32m     11\u001b[0m \u001b[0mrow\u001b[0m \u001b[1;33m=\u001b[0m \u001b[0msession\u001b[0m\u001b[1;33m.\u001b[0m\u001b[0mexecute\u001b[0m\u001b[1;33m(\u001b[0m\u001b[1;34m\"select release_version from system.local\"\u001b[0m\u001b[1;33m)\u001b[0m\u001b[1;33m.\u001b[0m\u001b[0mone\u001b[0m\u001b[1;33m(\u001b[0m\u001b[1;33m)\u001b[0m\u001b[1;33m\u001b[0m\u001b[0m\n",
      "\u001b[1;32mc:\\USERS\\SOMIT\\DOWNLOADS\\PROJECT_INEURON\\INSURENCE_PREMIUM_PREDICTION\\VENV_N\\lib\\site-packages\\cassandra\\cluster.cp37-win_amd64.pyd\u001b[0m in \u001b[0;36mcassandra.cluster.Cluster.connect\u001b[1;34m()\u001b[0m\n",
      "\u001b[1;32mc:\\USERS\\SOMIT\\DOWNLOADS\\PROJECT_INEURON\\INSURENCE_PREMIUM_PREDICTION\\VENV_N\\lib\\site-packages\\cassandra\\cluster.cp37-win_amd64.pyd\u001b[0m in \u001b[0;36mcassandra.cluster.Cluster.connect\u001b[1;34m()\u001b[0m\n",
      "\u001b[1;32mc:\\USERS\\SOMIT\\DOWNLOADS\\PROJECT_INEURON\\INSURENCE_PREMIUM_PREDICTION\\VENV_N\\lib\\site-packages\\cassandra\\cluster.cp37-win_amd64.pyd\u001b[0m in \u001b[0;36mcassandra.cluster.Cluster.connect\u001b[1;34m()\u001b[0m\n",
      "\u001b[1;32mc:\\USERS\\SOMIT\\DOWNLOADS\\PROJECT_INEURON\\INSURENCE_PREMIUM_PREDICTION\\VENV_N\\lib\\site-packages\\cassandra\\cluster.cp37-win_amd64.pyd\u001b[0m in \u001b[0;36mcassandra.cluster.ControlConnection.connect\u001b[1;34m()\u001b[0m\n",
      "\u001b[1;32mc:\\USERS\\SOMIT\\DOWNLOADS\\PROJECT_INEURON\\INSURENCE_PREMIUM_PREDICTION\\VENV_N\\lib\\site-packages\\cassandra\\cluster.cp37-win_amd64.pyd\u001b[0m in \u001b[0;36mcassandra.cluster.ControlConnection._reconnect_internal\u001b[1;34m()\u001b[0m\n",
      "\u001b[1;31mNoHostAvailable\u001b[0m: ('Unable to connect to any servers', {'a2431764-f2cb-4174-911f-3dfd57df326f-asia-south1.db.astra.datastax.com:29042:e61f2720-99f2-4c73-8a4b-609584efb68d': AuthenticationFailed('Failed to authenticate to a2431764-f2cb-4174-911f-3dfd57df326f-asia-south1.db.astra.datastax.com:29042:e61f2720-99f2-4c73-8a4b-609584efb68d: Error from server: code=0100 [Bad credentials] message=\"We recently improved your database security. To find out more and reconnect, see https://docs.datastax.com/en/astra/docs/manage-application-tokens.html\"'), 'a2431764-f2cb-4174-911f-3dfd57df326f-asia-south1.db.astra.datastax.com:29042:a685e584-612b-44d2-b0dd-b2ace34ce3f2': AuthenticationFailed('Failed to authenticate to a2431764-f2cb-4174-911f-3dfd57df326f-asia-south1.db.astra.datastax.com:29042:a685e584-612b-44d2-b0dd-b2ace34ce3f2: Error from server: code=0100 [Bad credentials] message=\"We recently improved your database security. To find out more and reconnect, see https://docs.datastax.com/en/astra/docs/manage-application-tokens.html\"'), 'a2431764-f2cb-4174-911f-3dfd57df326f-asia-south1.db.astra.datastax.com:29042:aaeebc27-e273-435c-ab56-bd56c3080ad6': AuthenticationFailed('Failed to authenticate to a2431764-f2cb-4174-911f-3dfd57df326f-asia-south1.db.astra.datastax.com:29042:aaeebc27-e273-435c-ab56-bd56c3080ad6: Error from server: code=0100 [Bad credentials] message=\"We recently improved your database security. To find out more and reconnect, see https://docs.datastax.com/en/astra/docs/manage-application-tokens.html\"')})"
     ]
    }
   ],
   "source": [
    "from cassandra.cluster import Cluster\n",
    "from cassandra.auth import PlainTextAuthProvider\n",
    "\n",
    "cloud_config= {\n",
    "         'secure_connect_bundle': r'C:\\Users\\somit\\Downloads\\project_ineuron\\insurence_premium_prediction\\insurence_premium\\cassandra_db\\secure-connect-akhil.zip'\n",
    "}\n",
    "auth_provider = PlainTextAuthProvider('dNhSZHWgspNIBDDUZEepgJYH', 'ZhjlX.mZvbaR,zIIgtEu6D0PvQPW9q.Rq4wbY9P+BureO,Z2BsJOlX6LwiKepIIEcl.icH_fhhe7uFCzI-qHZylfMujsbKTKmcUZq8uxpcMH4kqYTkli-RpG5nw-SUi9 ')\n",
    "cluster = Cluster(cloud=cloud_config, auth_provider=auth_provider)\n",
    "session = cluster.connect()\n",
    "\n",
    "row = session.execute(\"select release_version from system.local\").one()\n",
    "if row:\n",
    "      print(row[0])\n",
    "else:\n",
    "      print(\"An error occurred.\")"
   ]
  },
  {
   "cell_type": "code",
   "execution_count": null,
   "metadata": {},
   "outputs": [],
   "source": []
  }
 ],
 "metadata": {
  "kernelspec": {
   "display_name": "Python 3",
   "language": "python",
   "name": "python3"
  },
  "language_info": {
   "codemirror_mode": {
    "name": "ipython",
    "version": 3
   },
   "file_extension": ".py",
   "mimetype": "text/x-python",
   "name": "python",
   "nbconvert_exporter": "python",
   "pygments_lexer": "ipython3",
   "version": "3.7.0"
  },
  "orig_nbformat": 4,
  "vscode": {
   "interpreter": {
    "hash": "91d86e5f2c911826db131437ded1b55ef47620328f0a0cced471a8328a051883"
   }
  }
 },
 "nbformat": 4,
 "nbformat_minor": 2
}
