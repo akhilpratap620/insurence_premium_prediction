{
 "cells": [
  {
   "cell_type": "code",
   "execution_count": 2,
   "metadata": {},
   "outputs": [],
   "source": [
    "from insurence_premium.entity.model_entity import ModelEvaluationArtifact"
   ]
  },
  {
   "cell_type": "code",
   "execution_count": 3,
   "metadata": {},
   "outputs": [],
   "source": [
    "import os\n",
    "os.getcwd()\n",
    "os.chdir(\"../\")"
   ]
  },
  {
   "cell_type": "code",
   "execution_count": 4,
   "metadata": {},
   "outputs": [],
   "source": [
    "from dataclasses import dataclass\n",
    "@dataclass\n",
    "class DataModelPusher:\n",
    "    model_pusher_file_path: str\n",
    "\n",
    "    "
   ]
  },
  {
   "cell_type": "code",
   "execution_count": 67,
   "metadata": {},
   "outputs": [],
   "source": [
    "from insurence_premium.constant import *\n",
    "from insurence_premium.util.common import (\n",
    "    \n",
    "    create_directories,read_yaml,\n",
    "    load_numpy_array_data,load_data,load_object,write_yaml_file\n",
    ")\n",
    "from pathlib import Path\n",
    "from insurence_premium.entity import (\n",
    "    DataIngestionConfig,\n",
    "    DataValidationConfig,\n",
    "    DataTransformationConfig,\n",
    "    DataModelTrainerConfig\n",
    ")\n",
    "from insurence_premium import logger\n",
    "\n",
    "\n",
    "class ConfigurationManager:\n",
    "    def __init__(\n",
    "        self, config_filepath=CONFIG_FILE_PATH, params_filepath=PARAMS_FILE_PATH\n",
    "    ):\n",
    "\n",
    "        self.config = read_yaml(config_filepath)\n",
    "        self.params = read_yaml(params_filepath)\n",
    "        self.time_stamp=CURRENT_TIME_STAMP\n",
    "\n",
    "        create_directories([self.config.artifacts_root])\n",
    "\n",
    "    def get_data_ingestion_config(\n",
    "        self,\n",
    "    ) -> DataIngestionConfig:\n",
    "        ingestion_config = self.config.data_ingestion\n",
    "\n",
    "        data_ingestion_config = DataIngestionConfig(\n",
    "            root_dir=Path(ingestion_config.root_dir),\n",
    "            raw_data=Path(ingestion_config.raw_data),\n",
    "            ingested_train_dir=Path(ingestion_config.ingested_train_dir),\n",
    "            ingested_test_dir=Path(ingestion_config.ingested_test_dir),\n",
    "        )\n",
    "        return data_ingestion_config\n",
    "\n",
    "    def get_data_validation_config(self) -> DataValidationConfig:\n",
    "        validation_config = self.config.data_validation\n",
    "\n",
    "        data_validation_config = DataValidationConfig(\n",
    "            root_dir=Path(validation_config.root_dir),\n",
    "            schema_file_path=Path(validation_config.schema_file_path),\n",
    "            report_file_path=Path(validation_config.report_file_path),\n",
    "            report_page_file_path=Path(validation_config.report_page_file_path),\n",
    "        )\n",
    "        return data_validation_config\n",
    "\n",
    "    def get_data_transformation_config(self) -> DataTransformationConfig:\n",
    "        try:\n",
    "            transformation_config = self.config.data_transformation\n",
    "            data_transformation_config = DataTransformationConfig(\n",
    "                root_dir=Path(transformation_config.root_dir),\n",
    "                transformed_train_file_path=Path(\n",
    "                    transformation_config.transformed_train_file_path\n",
    "                ),\n",
    "                transformed_test_file_path=Path(\n",
    "                    transformation_config.transformed_test_file_path\n",
    "                ),\n",
    "                preprocessing_dir=Path(transformation_config.preprocessing_dir),\n",
    "                preprocessing_file_path=Path(\n",
    "                    transformation_config.preprocessing_file_path\n",
    "                ),\n",
    "            )\n",
    "            return data_transformation_config\n",
    "            logging.info(f\"return: [{data_ingestion_config}]\")\n",
    "        except Exception as e:\n",
    "            raise e\n",
    "\n",
    "    def get_model_trainer_config(self) -> DataModelTrainerConfig:\n",
    "        try:\n",
    "            model_trainer_config = self.config.data_model_trainer\n",
    "\n",
    "            data_model_trainer_config = DataModelTrainerConfig(\n",
    "                root_dir=Path(model_trainer_config.root_dir),\n",
    "                trained_model_file_path=\n",
    "                    model_trainer_config.trained_model_file_path\n",
    "                ,\n",
    "                base_accuracy=model_trainer_config.base_accuracy,\n",
    "                model_config_file_path=Path(\n",
    "                    model_trainer_config.model_config_file_path\n",
    "                ),\n",
    "            )\n",
    "            return data_model_trainer_config\n",
    "            logger.info(f\"model trainer config : {data_model_trainer_config}\")\n",
    "        except Exception as e:\n",
    "            raise e\n",
    "\n",
    "    def get_model_evaluation_config(self):\n",
    "        try:\n",
    "            data_evaluation_config=self.config.data_model_evaluation\n",
    "            model_evaluation_file_path=os.path.join(data_evaluation_config.root_dir ,data_evaluation_config.model_evaluation_file_name)\n",
    "            model_evaluation_config=DataModelEvaluation(\n",
    "                root_dir= Path(data_evaluation_config.root_dir),\n",
    "                model_evaluation_file_path= Path(model_evaluation_file_path),\n",
    "                time_stamp= self.time_stamp\n",
    "\n",
    "                \n",
    "            )\n",
    "            return model_evaluation_config\n",
    "        except Exception as e:\n",
    "            raise e\n",
    "    def get_model_pusher_config(self):\n",
    "        try:\n",
    "            model_pusher_config=self.config.model_pusher\n",
    "\n",
    "            data_model_pusher=DataModelPusher(model_pusher_file_path=model_pusher_config.root_dir)\n",
    "\n",
    "\n",
    "            return data_model_pusher\n",
    "            logger.info(f\"model_pusher config:{data_model_pusher}\")\n",
    "\n",
    "            \n",
    "        except Exception as e:\n",
    "            raise e        "
   ]
  },
  {
   "cell_type": "code",
   "execution_count": 68,
   "metadata": {},
   "outputs": [
    {
     "name": "stdout",
     "output_type": "stream",
     "text": [
      "[2023-04-12 22:22:50,645: INFO: common]: yaml file: config\\config.yaml loaded successfully\n",
      "[2023-04-12 22:22:50,652: INFO: common]: yaml file: params.yaml loaded successfully\n",
      "[2023-04-12 22:22:50,656: INFO: common]: created directory at: artifacts\n"
     ]
    },
    {
     "data": {
      "text/plain": [
       "DataModelPusher(model_pusher_file_path='prediction_services/saved_model/model.pkl')"
      ]
     },
     "execution_count": 68,
     "metadata": {},
     "output_type": "execute_result"
    }
   ],
   "source": [
    "ConfigurationManager().get_model_pusher_config()"
   ]
  },
  {
   "cell_type": "code",
   "execution_count": 69,
   "metadata": {},
   "outputs": [],
   "source": [
    "from insurence_premium import logger\n",
    "from insurence_premium.entity.model_entity import ModelEvaluationArtifact \n",
    "\n",
    "import os, sys\n",
    "import shutil\n",
    "\n",
    "\n",
    "class ModelPusher:\n",
    "\n",
    "    def __init__(self, config:ConfigurationManager):\n",
    "        try:\n",
    "            logger.info(f\"{'>>' * 30}Model Pusher log started.{'<<' * 30} \")\n",
    "            self.config= ConfigurationManager()\n",
    "            self.model_pusher_config=self.config.get_model_pusher_config()\n",
    "            self.model_evaluation_config=self.config.get_model_evaluation_config()\n",
    "\n",
    "        except Exception as e:\n",
    "            raise e\n",
    "\n",
    "    def export_model(self):\n",
    "        try:\n",
    "            evaluated_model_file_path = str(self.model_evaluation_config.model_evaluation_file_path)\n",
    "            logger.info(f\"{evaluated_model_file_path}\")\n",
    "            export_model_file_path = self.model_pusher_config.model_pusher_file_path\n",
    "\n",
    "            export_dir=os.path.dirname(export_model_file_path)\n",
    "            logger.info(f\"Exporting model file: [{export_model_file_path}]\")\n",
    "            os.makedirs(export_dir, exist_ok=True)\n",
    "\n",
    "            shutil.copy(src=evaluated_model_file_path, dst=export_model_file_path)\n",
    "            #we can call a function to save model to Azure blob storage/ google cloud strorage / s3 bucket\n",
    "            logger.info(\n",
    "                f\"Trained model: {evaluated_model_file_path} is copied in export dir:[{export_model_file_path}]\")\n",
    "\n",
    "            \n",
    "            \n",
    "            return export_model_file_path\n",
    "        except Exception as e:\n",
    "            raise e\n",
    "\n",
    "    \n",
    "\n",
    "    def __del__(self):\n",
    "        logger.info(f\"{'>>' * 20}Model Pusher log completed.{'<<' * 20} \")"
   ]
  },
  {
   "cell_type": "code",
   "execution_count": 70,
   "metadata": {},
   "outputs": [
    {
     "name": "stdout",
     "output_type": "stream",
     "text": [
      "[2023-04-12 22:22:59,307: INFO: common]: yaml file: config\\config.yaml loaded successfully\n",
      "[2023-04-12 22:22:59,312: INFO: common]: yaml file: params.yaml loaded successfully\n",
      "[2023-04-12 22:22:59,318: INFO: common]: created directory at: artifacts\n",
      "[2023-04-12 22:22:59,322: INFO: 735480471]: >>>>>>>>>>>>>>>>>>>>>>>>>>>>>>>>>>>>>>>>>>>>>>>>>>>>>>>>>>>>Model Pusher log started.<<<<<<<<<<<<<<<<<<<<<<<<<<<<<<<<<<<<<<<<<<<<<<<<<<<<<<<<<<<< \n",
      "[2023-04-12 22:22:59,332: INFO: common]: yaml file: config\\config.yaml loaded successfully\n",
      "[2023-04-12 22:22:59,344: INFO: common]: yaml file: params.yaml loaded successfully\n",
      "[2023-04-12 22:22:59,349: INFO: common]: created directory at: artifacts\n",
      "[2023-04-12 22:22:59,354: INFO: 735480471]: >>>>>>>>>>>>>>>>>>>>>>>>>>>>>>>>>>>>>>>>Model Pusher log completed.<<<<<<<<<<<<<<<<<<<<<<<<<<<<<<<<<<<<<<<< \n",
      "[2023-04-12 22:22:59,357: INFO: 735480471]: artifacts\\data_model_evaluation\\model_e.yaml\n",
      "[2023-04-12 22:22:59,360: INFO: 735480471]: Exporting model file: [prediction_services/saved_model/model.pkl]\n",
      "[2023-04-12 22:22:59,368: INFO: 735480471]: Trained model: artifacts\\data_model_evaluation\\model_e.yaml is copied in export dir:[prediction_services/saved_model/model.pkl]\n"
     ]
    },
    {
     "data": {
      "text/plain": [
       "'prediction_services/saved_model/model.pkl'"
      ]
     },
     "execution_count": 70,
     "metadata": {},
     "output_type": "execute_result"
    }
   ],
   "source": [
    "con= ConfigurationManager()\n",
    "model_pusher=ModelPusher(config=con)\n",
    "model_pusher.export_model()"
   ]
  },
  {
   "cell_type": "code",
   "execution_count": 55,
   "metadata": {},
   "outputs": [
    {
     "name": "stdout",
     "output_type": "stream",
     "text": [
      "[2023-04-12 21:06:34,273: INFO: common]: yaml file: config\\config.yaml loaded successfully\n",
      "[2023-04-12 21:06:34,280: INFO: common]: yaml file: params.yaml loaded successfully\n",
      "[2023-04-12 21:06:34,285: INFO: common]: created directory at: artifacts\n"
     ]
    },
    {
     "data": {
      "text/plain": [
       "'artifacts\\\\data_model_evaluation\\\\model_e.yaml'"
      ]
     },
     "execution_count": 55,
     "metadata": {},
     "output_type": "execute_result"
    }
   ],
   "source": [
    "a=str(ConfigurationManager().get_model_evaluation_config().model_evaluation_file_path)\n",
    "a"
   ]
  },
  {
   "cell_type": "code",
   "execution_count": null,
   "metadata": {},
   "outputs": [],
   "source": []
  },
  {
   "cell_type": "code",
   "execution_count": 26,
   "metadata": {},
   "outputs": [],
   "source": [
    "from insurence_premium.entity.config_entity import DataModelEvaluation"
   ]
  },
  {
   "cell_type": "code",
   "execution_count": 66,
   "metadata": {},
   "outputs": [],
   "source": [
    "from insurence_premium.config import ConfigurationManager"
   ]
  },
  {
   "cell_type": "code",
   "execution_count": null,
   "metadata": {},
   "outputs": [],
   "source": []
  }
 ],
 "metadata": {
  "kernelspec": {
   "display_name": "Python 3",
   "language": "python",
   "name": "python3"
  },
  "language_info": {
   "codemirror_mode": {
    "name": "ipython",
    "version": 3
   },
   "file_extension": ".py",
   "mimetype": "text/x-python",
   "name": "python",
   "nbconvert_exporter": "python",
   "pygments_lexer": "ipython3",
   "version": "3.8.16"
  },
  "orig_nbformat": 4
 },
 "nbformat": 4,
 "nbformat_minor": 2
}
