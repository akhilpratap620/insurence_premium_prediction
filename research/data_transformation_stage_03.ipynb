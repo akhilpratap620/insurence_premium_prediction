{
 "cells": [
  {
   "cell_type": "code",
   "execution_count": 1,
   "metadata": {},
   "outputs": [
    {
     "data": {
      "text/plain": [
       "'C:\\\\Users\\\\somit\\\\Downloads\\\\project_ineuron\\\\insurence_premium_prediction'"
      ]
     },
     "execution_count": 1,
     "metadata": {},
     "output_type": "execute_result"
    }
   ],
   "source": [
    "import os\n",
    "os.getcwd()\n",
    "os.chdir(\"C:\\\\Users\\somit\\Downloads\\project_ineuron\\insurence_premium_prediction\")\n",
    "os.getcwd()"
   ]
  },
  {
   "cell_type": "code",
   "execution_count": 2,
   "metadata": {},
   "outputs": [],
   "source": [
    "from insurence_premium.config import ConfigurationManager"
   ]
  },
  {
   "cell_type": "code",
   "execution_count": 3,
   "metadata": {},
   "outputs": [
    {
     "data": {
      "text/plain": [
       "'C:\\\\Users\\\\somit\\\\Downloads\\\\project_ineuron\\\\insurence_premium_prediction'"
      ]
     },
     "execution_count": 3,
     "metadata": {},
     "output_type": "execute_result"
    }
   ],
   "source": [
    "from pathlib import Path\n",
    "from dataclasses import dataclass\n",
    "\n",
    "import os\n",
    "\n",
    "from insurence_premium.util.common import read_yaml\n",
    "os.getcwd()\n",
    "os.chdir(\"C:\\\\Users\\somit\\Downloads\\project_ineuron\\insurence_premium_prediction\")\n",
    "os.getcwd()"
   ]
  },
  {
   "cell_type": "code",
   "execution_count": 4,
   "metadata": {},
   "outputs": [
    {
     "ename": "NameError",
     "evalue": "name 'CONFIG_FILE_PATH' is not defined",
     "output_type": "error",
     "traceback": [
      "\u001b[1;31m---------------------------------------------------------------------------\u001b[0m",
      "\u001b[1;31mNameError\u001b[0m                                 Traceback (most recent call last)",
      "Cell \u001b[1;32mIn[4], line 1\u001b[0m\n\u001b[1;32m----> 1\u001b[0m read_yaml(CONFIG_FILE_PATH)\n",
      "\u001b[1;31mNameError\u001b[0m: name 'CONFIG_FILE_PATH' is not defined"
     ]
    }
   ],
   "source": [
    "read_yaml(CONFIG_FILE_PATH)"
   ]
  },
  {
   "cell_type": "code",
   "execution_count": 4,
   "metadata": {},
   "outputs": [
    {
     "ename": "ZipImportError",
     "evalue": "bad local file header: 'c:\\\\Users\\\\somit\\\\Downloads\\\\project_ineuron\\\\insurence_premium_prediction\\\\env\\\\lib\\\\site-packages\\\\insurencepremium-0.0.2-py3.8.egg'",
     "output_type": "error",
     "traceback": [
      "\u001b[1;31m---------------------------------------------------------------------------\u001b[0m",
      "\u001b[1;31mZipImportError\u001b[0m                            Traceback (most recent call last)",
      "Cell \u001b[1;32mIn[4], line 2\u001b[0m\n\u001b[0;32m      1\u001b[0m \u001b[39mfrom\u001b[39;00m \u001b[39minsurence_premium\u001b[39;00m \u001b[39mimport\u001b[39;00m logger\n\u001b[1;32m----> 2\u001b[0m \u001b[39mfrom\u001b[39;00m \u001b[39minsurence_premium\u001b[39;00m\u001b[39m.\u001b[39;00m\u001b[39mconstant\u001b[39;00m \u001b[39mimport\u001b[39;00m \u001b[39m*\u001b[39m\n\u001b[0;32m      3\u001b[0m \u001b[39mfrom\u001b[39;00m \u001b[39minsurence_premium\u001b[39;00m\u001b[39m.\u001b[39;00m\u001b[39mentity\u001b[39;00m \u001b[39mimport\u001b[39;00m DataIngestionConfig ,DataValidationConfig\n\u001b[0;32m      4\u001b[0m \u001b[39mfrom\u001b[39;00m \u001b[39minsurence_premium\u001b[39;00m\u001b[39m.\u001b[39;00m\u001b[39mutil\u001b[39;00m \u001b[39mimport\u001b[39;00m read_yaml ,create_directories ,save_numpy_data ,save_object\n",
      "File \u001b[1;32m<frozen zipimport>:241\u001b[0m, in \u001b[0;36mload_module\u001b[1;34m(self, fullname)\u001b[0m\n",
      "File \u001b[1;32m<frozen zipimport>:709\u001b[0m, in \u001b[0;36m_get_module_code\u001b[1;34m(self, fullname)\u001b[0m\n",
      "File \u001b[1;32m<frozen zipimport>:548\u001b[0m, in \u001b[0;36m_get_data\u001b[1;34m(archive, toc_entry)\u001b[0m\n",
      "\u001b[1;31mZipImportError\u001b[0m: bad local file header: 'c:\\\\Users\\\\somit\\\\Downloads\\\\project_ineuron\\\\insurence_premium_prediction\\\\env\\\\lib\\\\site-packages\\\\insurencepremium-0.0.2-py3.8.egg'"
     ]
    }
   ],
   "source": [
    "from insurence_premium import logger\n",
    "from insurence_premium.constant import *\n",
    "from insurence_premium.entity import DataIngestionConfig ,DataValidationConfig\n",
    "from insurence_premium.util import read_yaml ,create_directories ,save_numpy_data ,save_object"
   ]
  },
  {
   "cell_type": "code",
   "execution_count": 3,
   "metadata": {},
   "outputs": [],
   "source": [
    "@dataclass(frozen=True)\n",
    "class DataTransformationConfig:\n",
    "    root_dir: Path\n",
    "    transformed_train_file_path: Path\n",
    "    transformed_test_file_path: Path\n",
    "    preprocessing_dir: Path\n",
    "    preprocessing_file_path: Path"
   ]
  },
  {
   "cell_type": "code",
   "execution_count": 4,
   "metadata": {},
   "outputs": [],
   "source": [
    "class ConfigurationManager:\n",
    "    def __init__(\n",
    "        self ,\n",
    "        config_filepath = CONFIG_FILE_PATH,\n",
    "        params_filepath = PARAMS_FILE_PATH):\n",
    "\n",
    "        self.config =read_yaml(config_filepath)\n",
    "        self.params =read_yaml(params_filepath)\n",
    "\n",
    "        create_directories([self.config.artifacts_root])\n",
    "    \n",
    "    def get_data_ingestion_config(self)->DataIngestionConfig:\n",
    "        ingestion_config =self.config.data_ingestion\n",
    "        data_ingestion_config = DataIngestionConfig(\n",
    "            root_dir=Path(ingestion_config.root_dir),\n",
    "            raw_data=Path(ingestion_config.raw_data),\n",
    "            ingested_train_dir=Path(ingestion_config.ingested_train_dir),\n",
    "            ingested_test_dir =Path(ingestion_config.ingested_test_dir)\n",
    "        )\n",
    "        return data_ingestion_config\n",
    "\n",
    "    \n",
    "\n",
    "    def get_data_validation_config(self)->DataValidationConfig:\n",
    "        validation_config =self.config.data_validation\n",
    "\n",
    "        data_validation_config =DataValidationConfig(\n",
    "            root_dir=Path(validation_config.root_dir),\n",
    "            schema_file_path=Path(validation_config.schema_file_path),\n",
    "            report_file_path=Path(validation_config.report_file_path),\n",
    "            report_page_file_path=Path(validation_config.report_page_file_path)\n",
    "            \n",
    "        )\n",
    "        return data_validation_config\n",
    "\n",
    "    def get_data_transformation_config(self)->DataTransformationConfig:\n",
    "        try:\n",
    "            transformation_config=self.config.data_transformation\n",
    "            data_transformation_config =DataTransformationConfig(\n",
    "                root_dir =Path(transformation_config.root_dir),\n",
    "                transformed_train_file_path=Path(transformation_config.transformed_train_file_path),\n",
    "                transformed_test_file_path=Path(transformation_config.transformed_test_file_path),\n",
    "                preprocessing_dir=Path(transformation_config.preprocessing_dir),\n",
    "                preprocessing_file_path=Path(transformation_config.preprocessing_file_path)\n",
    "                )\n",
    "            return data_transformation_config    \n",
    "            logging.info(f\"return: [{data_ingestion_config}]\")\n",
    "        except Exception as e:\n",
    "            raise e     \n",
    "\n"
   ]
  },
  {
   "cell_type": "code",
   "execution_count": 5,
   "metadata": {},
   "outputs": [
    {
     "name": "stdout",
     "output_type": "stream",
     "text": [
      "[2023-03-21 10:30:24,918: INFO: common]: yaml file: config\\config.yaml loaded successfully\n",
      "[2023-03-21 10:30:24,923: INFO: common]: yaml file: params.yaml loaded successfully\n",
      "[2023-03-21 10:30:24,928: INFO: common]: created directory at: artifacts\n"
     ]
    },
    {
     "data": {
      "text/plain": [
       "DataTransformationConfig(root_dir=WindowsPath('artifacts/data_transformation'), transformed_train_file_path=WindowsPath('artifacts/data_transformation/train/insurence.npz'), transformed_test_file_path=WindowsPath('artifacts/data_transformation/test/insurence.npz'), preprocessing_dir=WindowsPath('artifacts/data_transformation/preprocessed_file'), preprocessing_file_path=WindowsPath('artifacts/data_transformation/preprocessed_file/preprocessing.pkl'))"
      ]
     },
     "execution_count": 5,
     "metadata": {},
     "output_type": "execute_result"
    }
   ],
   "source": [
    "con=ConfigurationManager()\n",
    "con.get_data_transformation_config()"
   ]
  },
  {
   "cell_type": "code",
   "execution_count": 5,
   "metadata": {},
   "outputs": [],
   "source": [
    "from insurence_premium import logger"
   ]
  },
  {
   "cell_type": "code",
   "execution_count": null,
   "metadata": {},
   "outputs": [],
   "source": []
  },
  {
   "cell_type": "code",
   "execution_count": 5,
   "metadata": {},
   "outputs": [
    {
     "name": "stdout",
     "output_type": "stream",
     "text": [
      "[2023-03-20 23:02:23,085: INFO: common]: yaml file: config\\config.yaml loaded successfully\n",
      "[2023-03-20 23:02:23,087: INFO: common]: yaml file: params.yaml loaded successfully\n",
      "[2023-03-20 23:02:23,090: INFO: common]: created directory at: artifacts\n"
     ]
    },
    {
     "data": {
      "text/plain": [
       "DataIngestionConfig(root_dir=WindowsPath('artifacts/data_ingestion'), raw_data=WindowsPath('artifacts/data_ingestion/raw_data/insurence.csv'), ingested_train_dir=WindowsPath('artifacts/data_ingestion/train/insurence.csv'), ingested_test_dir=WindowsPath('artifacts/data_ingestion/test/insurence.csv'))"
      ]
     },
     "execution_count": 5,
     "metadata": {},
     "output_type": "execute_result"
    }
   ],
   "source": []
  },
  {
   "cell_type": "code",
   "execution_count": 6,
   "metadata": {},
   "outputs": [
    {
     "name": "stdout",
     "output_type": "stream",
     "text": [
      "[2023-03-21 07:42:27,953: INFO: common]: yaml file: config\\config.yaml loaded successfully\n",
      "[2023-03-21 07:42:28,063: INFO: common]: yaml file: params.yaml loaded successfully\n",
      "[2023-03-21 07:42:28,067: INFO: common]: created directory at: artifacts\n",
      "[2023-03-21 07:42:28,078: INFO: common]: yaml file: config\\schema.yaml loaded successfully\n"
     ]
    },
    {
     "data": {
      "text/plain": [
       "'expenses'"
      ]
     },
     "execution_count": 6,
     "metadata": {},
     "output_type": "execute_result"
    }
   ],
   "source": [
    "schema_file_path=ConfigurationManager().get_data_validation_config().schema_file_path\n",
    "schema=read_yaml(schema_file_path)\n",
    "schema[NUMERICAL_COLUMN_KEY][4]"
   ]
  },
  {
   "cell_type": "code",
   "execution_count": 6,
   "metadata": {},
   "outputs": [],
   "source": [
    "from sklearn.pipeline import Pipeline\n",
    "from sklearn.compose import ColumnTransformer\n",
    "from sklearn.preprocessing import StandardScaler\n",
    "from sklearn.impute import SimpleImputer\n",
    "from sklearn.preprocessing import OneHotEncoder\n",
    "import numpy as np"
   ]
  },
  {
   "cell_type": "code",
   "execution_count": 7,
   "metadata": {},
   "outputs": [],
   "source": [
    "class DataTransformation:\n",
    "    def __init__(self):\n",
    "        \n",
    "        self.config=ConfigurationManager()\n",
    "        self.data_validation_config=self.config.get_data_validation_config()\n",
    "        self.data_ingestion_config=self.config.get_data_ingestion_config()\n",
    "        self.data_transformation_config=self.config.get_data_transformation_config()\n",
    "    @staticmethod\n",
    "    def load_data(file_path:str ,schema_file_path:str)->pd.DataFrame:\n",
    "        try:\n",
    "            schema=read_yaml(schema_file_path)\n",
    "            data_frame=pd.read_csv(file_path,index_col='Unnamed: 0')\n",
    "            error_message =''\n",
    "\n",
    "            for column in data_frame.columns:\n",
    "                if column in list(schema.keys()):\n",
    "                    data_frame[column].astype(schema[column])\n",
    "                else:\n",
    "                    error_message=f\"{error_message} \\ncolumn:[{column}] is not in the schema\"    \n",
    "            if len(error_message)>0:\n",
    "                raise Exception(error_message)\n",
    "            \n",
    "            return data_frame      \n",
    "        except Exception as e:\n",
    "            raise e\n",
    "    def get_data_transformer(self)->ColumnTransformer:\n",
    "        try:\n",
    "            schema_file_path=self.config.get_data_validation_config().schema_file_path\n",
    "            dataset_schema=read_yaml(schema_file_path)\n",
    "            numerical_columns=dataset_schema[NUMERICAL_COLUMN_KEY]\n",
    "            categorical_columns=dataset_schema[CATEGORICAL_COLUMN_KEY]\n",
    "\n",
    "            num_pipeline=Pipeline(steps=[\n",
    "                ('imputer',SimpleImputer(strategy=\"median\")),\n",
    "                ('scaling',StandardScaler())\n",
    "            ])\n",
    "            \n",
    "            cat_pipeline=Pipeline(steps=[\n",
    "                ('imputer',SimpleImputer(strategy=\"most_frequent\")),\n",
    "                ('encoding',OneHotEncoder()),\n",
    "                ('scaling',StandardScaler(with_mean=False))\n",
    "            ])\n",
    "            \n",
    "            preprocessing =ColumnTransformer(\n",
    "                [('num_pipeline',num_pipeline ,numerical_columns),\n",
    "                ('cat_pipeline',cat_pipeline,categorical_columns)]\n",
    "            )\n",
    "            return preprocessing\n",
    "            \n",
    "        except Exception as e:\n",
    "            raise e      \n",
    "    def transformed_data(self):\n",
    "        try:\n",
    "            train_file_path=self.data_ingestion_config.ingested_train_dir\n",
    "            test_file_path=self.data_ingestion_config.ingested_test_dir\n",
    "            schema_file_path=self.data_validation_config.schema_file_path\n",
    "            logger.info(\"loading train and test data\")\n",
    "            train_df=DataTransformation.load_data(file_path=train_file_path ,schema_file_path=schema_file_path)\n",
    "            test_df=DataTransformation.load_data(file_path=test_file_path ,schema_file_path=schema_file_path)\n",
    "            logger.info(\"loaded train and test data successfull\")\n",
    "            \n",
    "            schema=read_yaml(schema_file_path)\n",
    "            target_column=schema[TARGET_COLUMN_KEY]\n",
    "            logger.info(\"extracting target feature\")\n",
    "            target_feature_train_df=train_df[target_column]\n",
    "            input_feature_train_df=train_df.drop(columns=target_column , axis=1)\n",
    "            logger.info(\"extracting target feature done sucessfully\")\n",
    "            \n",
    "            logger.info(\"extracting target feature from test data\")\n",
    "            target_feature_test_df=test_df[target_column]\n",
    "            input_feature_test_df=test_df.drop(columns=target_column ,axis=1)\n",
    "            logger.info(\"extracting target feature from test data is done successfully\")\n",
    "\n",
    "\n",
    "            preprocessing_obj=self.get_data_transformer()\n",
    "            logger.info(\"preprocessing obj generated successfully\")\n",
    "            input_feature_train_array=preprocessing_obj.fit_transform(input_feature_train_df)\n",
    "            logger.info(\"train data transformed successfully\")\n",
    "            \n",
    "            input_feature_test_array=preprocessing_obj.transform(input_feature_test_df)\n",
    "            logger.info(\"test data transformed successfully\")\n",
    "            logger.info(\"train and test array concatination with target feature\")\n",
    "            train_array=np.c_[input_feature_train_array,np.array(target_feature_train_df)]\n",
    "            test_array=np.c_[input_feature_test_array,np.array(target_feature_test_df)]\n",
    "            logger.info(\"train and test array concatination with target feature is done successfully\")\n",
    "\n",
    "            transformed_train_file_path=self.data_transformation_config.transformed_train_file_path\n",
    "            transformed_test_file_path=self.data_transformation_config.transformed_test_file_path\n",
    "\n",
    "            train_dir ,file_name=os.path.split(transformed_train_file_path)\n",
    "            os.makedirs(train_dir ,exist_ok=True)\n",
    "\n",
    "            save_numpy_data(file_path=transformed_train_file_path,array=train_array)\n",
    "\n",
    "            test_dir ,file_name=os.path.split(transformed_test_file_path)\n",
    "            os.makedirs(test_dir ,exist_ok=True)\n",
    "\n",
    "            save_numpy_data(file_path=transformed_test_file_path,array=test_array)\n",
    "            preprocessing_obj_file_path=self.data_transformation_config.preprocessing_file_path\n",
    "\n",
    "            save_object(file_path=preprocessing_obj_file_path ,obj=preprocessing_obj)\n",
    "            logger.info(\"data transformation completed\")\n",
    "\n",
    "\n",
    "\n",
    "\n",
    "        except Exception as e:\n",
    "            raise e"
   ]
  },
  {
   "cell_type": "code",
   "execution_count": 8,
   "metadata": {},
   "outputs": [
    {
     "name": "stdout",
     "output_type": "stream",
     "text": [
      "[2023-03-21 10:30:36,151: INFO: common]: yaml file: config\\config.yaml loaded successfully\n",
      "[2023-03-21 10:30:36,156: INFO: common]: yaml file: params.yaml loaded successfully\n",
      "[2023-03-21 10:30:36,160: INFO: common]: created directory at: artifacts\n",
      "[2023-03-21 10:30:36,166: INFO: common]: yaml file: config\\config.yaml loaded successfully\n",
      "[2023-03-21 10:30:36,169: INFO: common]: yaml file: params.yaml loaded successfully\n",
      "[2023-03-21 10:30:36,171: INFO: common]: created directory at: artifacts\n",
      "[2023-03-21 10:30:36,177: INFO: common]: yaml file: config\\schema.yaml loaded successfully\n",
      "[2023-03-21 10:30:36,179: INFO: 283229416]: loading train and test data\n",
      "[2023-03-21 10:30:36,183: INFO: common]: yaml file: config\\schema.yaml loaded successfully\n",
      "[2023-03-21 10:30:36,204: INFO: common]: yaml file: config\\schema.yaml loaded successfully\n",
      "[2023-03-21 10:30:36,214: INFO: 283229416]: loaded train and test data successfull\n",
      "[2023-03-21 10:30:36,219: INFO: common]: yaml file: config\\schema.yaml loaded successfully\n",
      "[2023-03-21 10:30:36,221: INFO: 283229416]: extracting target feature\n",
      "[2023-03-21 10:30:36,224: INFO: 283229416]: extracting target feature done sucessfully\n",
      "[2023-03-21 10:30:36,226: INFO: 283229416]: extracting target feature from test data\n",
      "[2023-03-21 10:30:36,230: INFO: 283229416]: extracting target feature from test data is done successfully\n",
      "[2023-03-21 10:30:36,234: INFO: common]: yaml file: config\\schema.yaml loaded successfully\n",
      "[2023-03-21 10:30:36,236: INFO: 283229416]: preprocessing obj generated successfully\n",
      "[2023-03-21 10:30:36,263: INFO: 283229416]: train data transformed successfully\n",
      "[2023-03-21 10:30:36,277: INFO: 283229416]: test data transformed successfully\n",
      "[2023-03-21 10:30:36,279: INFO: 283229416]: train and test array concatination with target feature\n",
      "[2023-03-21 10:30:36,280: INFO: 283229416]: train and test array concatination with target feature is done successfully\n",
      "[2023-03-21 10:30:36,297: INFO: 283229416]: data transformation completed\n"
     ]
    }
   ],
   "source": [
    "try:\n",
    "       \n",
    "    con_obj = ConfigurationManager()\n",
    "    data_transformation= DataTransformation()\n",
    "    data_transformation.get_data_transformer()\n",
    "    data_transformation.transformed_data()\n",
    "    \n",
    "    \n",
    "except Exception as e:\n",
    "    raise e    "
   ]
  },
  {
   "cell_type": "code",
   "execution_count": null,
   "metadata": {},
   "outputs": [],
   "source": []
  },
  {
   "cell_type": "code",
   "execution_count": 32,
   "metadata": {},
   "outputs": [
    {
     "data": {
      "text/plain": [
       "BoxList(['expenses'])"
      ]
     },
     "execution_count": 32,
     "metadata": {},
     "output_type": "execute_result"
    }
   ],
   "source": [
    "schema['target_column']"
   ]
  },
  {
   "cell_type": "code",
   "execution_count": 17,
   "metadata": {},
   "outputs": [],
   "source": [
    " def get_data_transformer()->ColumnTransformer:\n",
    "        try:\n",
    "            schema_file_path=ConfigurationManager().get_data_validation_config().schema_file_path\n",
    "            dataset_schema=read_yaml(schema_file_path)\n",
    "            numerical_columns=dataset_schema[NUMERICAL_COLUMN_KEY]\n",
    "            categorical_columns=dataset_schema[CATEGORICAL_COLUMN_KEY]\n",
    "\n",
    "            num_pipeline=Pipeline(steps=[\n",
    "                ('imputer',SimpleImputer(strategy=\"median\")),\n",
    "                ('scaling',StandardScaler())\n",
    "            ])\n",
    "            \n",
    "            cat_pipeline=Pipeline(steps=[\n",
    "                ('imputer',SimpleImputer(strategy=\"most_frequent\")),\n",
    "                ('encoding',OneHotEncoder()),\n",
    "                ('scaling',StandardScaler(with_mean=False))\n",
    "            ])\n",
    "            \n",
    "            preprocessing =ColumnTransformer(\n",
    "                [('num_pipeline',num_pipeline ,numerical_columns),\n",
    "                ('cat_pipeline',cat_pipeline,categorical_columns)]\n",
    "            )\n",
    "            return preprocessing\n",
    "            \n",
    "        except Exception as e:\n",
    "            raise e     "
   ]
  },
  {
   "cell_type": "code",
   "execution_count": 18,
   "metadata": {},
   "outputs": [
    {
     "name": "stdout",
     "output_type": "stream",
     "text": [
      "[2023-03-21 09:13:58,137: INFO: common]: yaml file: config\\config.yaml loaded successfully\n",
      "[2023-03-21 09:13:58,141: INFO: common]: yaml file: params.yaml loaded successfully\n",
      "[2023-03-21 09:13:58,144: INFO: common]: created directory at: artifacts\n",
      "[2023-03-21 09:13:58,149: INFO: common]: yaml file: config\\schema.yaml loaded successfully\n"
     ]
    },
    {
     "ename": "NameError",
     "evalue": "name 'df' is not defined",
     "output_type": "error",
     "traceback": [
      "\u001b[1;31m---------------------------------------------------------------------------\u001b[0m",
      "\u001b[1;31mNameError\u001b[0m                                 Traceback (most recent call last)",
      "Cell \u001b[1;32mIn[18], line 2\u001b[0m\n\u001b[0;32m      1\u001b[0m pre\u001b[39m=\u001b[39mget_data_transformer()\n\u001b[1;32m----> 2\u001b[0m pre\u001b[39m.\u001b[39mfit_transform(df)\n",
      "\u001b[1;31mNameError\u001b[0m: name 'df' is not defined"
     ]
    }
   ],
   "source": [
    "pre=get_data_transformer()\n",
    "pre.fit_transform(df)"
   ]
  },
  {
   "cell_type": "code",
   "execution_count": 23,
   "metadata": {},
   "outputs": [
    {
     "name": "stdout",
     "output_type": "stream",
     "text": [
      "[2023-03-21 09:24:24,179: INFO: common]: yaml file: config\\config.yaml loaded successfully\n",
      "[2023-03-21 09:24:24,186: INFO: common]: yaml file: params.yaml loaded successfully\n",
      "[2023-03-21 09:24:24,189: INFO: common]: created directory at: artifacts\n",
      "[2023-03-21 09:24:24,196: INFO: common]: yaml file: config\\config.yaml loaded successfully\n",
      "[2023-03-21 09:24:24,200: INFO: common]: yaml file: params.yaml loaded successfully\n",
      "[2023-03-21 09:24:24,202: INFO: common]: created directory at: artifacts\n",
      "[2023-03-21 09:24:24,210: INFO: common]: yaml file: config\\config.yaml loaded successfully\n",
      "[2023-03-21 09:24:24,217: INFO: common]: yaml file: params.yaml loaded successfully\n",
      "[2023-03-21 09:24:24,224: INFO: common]: created directory at: artifacts\n",
      "[2023-03-21 09:24:24,236: INFO: common]: yaml file: config\\config.yaml loaded successfully\n",
      "[2023-03-21 09:24:24,244: INFO: common]: yaml file: params.yaml loaded successfully\n",
      "[2023-03-21 09:24:24,248: INFO: common]: created directory at: artifacts\n",
      "Unexpected exception formatting exception. Falling back to standard exception\n"
     ]
    },
    {
     "name": "stderr",
     "output_type": "stream",
     "text": [
      "Traceback (most recent call last):\n",
      "  File \"box\\box.py\", line 503, in box.box.Box.__getitem__\n",
      "KeyError: 'train_file_path'\n",
      "\n",
      "The above exception was the direct cause of the following exception:\n",
      "\n",
      "Traceback (most recent call last):\n",
      "  File \"box\\box.py\", line 536, in box.box.Box.__getattr__\n",
      "  File \"box\\box.py\", line 524, in box.box.Box.__getitem__\n",
      "box.exceptions.BoxKeyError: \"'train_file_path'\"\n",
      "\n",
      "During handling of the above exception, another exception occurred:\n",
      "\n",
      "Traceback (most recent call last):\n",
      "  File \"box\\box.py\", line 538, in box.box.Box.__getattr__\n",
      "AttributeError: 'ConfigBox' object has no attribute 'train_file_path'\n",
      "\n",
      "The above exception was the direct cause of the following exception:\n",
      "\n",
      "Traceback (most recent call last):\n",
      "  File \"box\\config_box.py\", line 28, in box.config_box.ConfigBox.__getattr__\n",
      "  File \"box\\box.py\", line 552, in box.box.Box.__getattr__\n",
      "box.exceptions.BoxKeyError: \"'ConfigBox' object has no attribute 'train_file_path'\"\n",
      "\n",
      "During handling of the above exception, another exception occurred:\n",
      "\n",
      "Traceback (most recent call last):\n",
      "  File \"box\\box.py\", line 503, in box.box.Box.__getitem__\n",
      "KeyError: 'train_file_path'\n",
      "\n",
      "The above exception was the direct cause of the following exception:\n",
      "\n",
      "Traceback (most recent call last):\n",
      "  File \"box\\box.py\", line 536, in box.box.Box.__getattr__\n",
      "  File \"box\\box.py\", line 524, in box.box.Box.__getitem__\n",
      "box.exceptions.BoxKeyError: \"'train_file_path'\"\n",
      "\n",
      "During handling of the above exception, another exception occurred:\n",
      "\n",
      "Traceback (most recent call last):\n",
      "  File \"box\\box.py\", line 538, in box.box.Box.__getattr__\n",
      "AttributeError: 'ConfigBox' object has no attribute 'train_file_path'\n",
      "\n",
      "The above exception was the direct cause of the following exception:\n",
      "\n",
      "Traceback (most recent call last):\n",
      "  File \"c:\\Users\\somit\\Downloads\\project_ineuron\\insurence_premium_prediction\\env\\lib\\site-packages\\IPython\\core\\interactiveshell.py\", line 3460, in run_code\n",
      "    exec(code_obj, self.user_global_ns, self.user_ns)\n",
      "  File \"C:\\Users\\somit\\AppData\\Local\\Temp\\ipykernel_23260\\2884844116.py\", line 4, in <module>\n",
      "    df=DataTransformation().load_data(file_path=train_file_path,schema_file_path=schema_file_path)\n",
      "  File \"C:\\Users\\somit\\AppData\\Local\\Temp\\ipykernel_23260\\3534771309.py\", line 7, in __init__\n",
      "    self.get_data_transformation_config=self.config.get_data_transformation_config()\n",
      "  File \"C:\\Users\\somit\\AppData\\Local\\Temp\\ipykernel_23260\\4157307571.py\", line 51, in get_data_transformation_config\n",
      "    raise e\n",
      "  File \"C:\\Users\\somit\\AppData\\Local\\Temp\\ipykernel_23260\\4157307571.py\", line 41, in get_data_transformation_config\n",
      "    train_file_path=Path(transformation_config.train_file_path),\n",
      "  File \"box\\config_box.py\", line 30, in box.config_box.ConfigBox.__getattr__\n",
      "  File \"box\\box.py\", line 552, in box.box.Box.__getattr__\n",
      "box.exceptions.BoxKeyError: \"'ConfigBox' object has no attribute 'train_file_path'\"\n",
      "\n",
      "During handling of the above exception, another exception occurred:\n",
      "\n",
      "Traceback (most recent call last):\n",
      "  File \"c:\\Users\\somit\\Downloads\\project_ineuron\\insurence_premium_prediction\\env\\lib\\site-packages\\IPython\\core\\interactiveshell.py\", line 2057, in showtraceback\n",
      "    stb = self.InteractiveTB.structured_traceback(\n",
      "  File \"c:\\Users\\somit\\Downloads\\project_ineuron\\insurence_premium_prediction\\env\\lib\\site-packages\\IPython\\core\\ultratb.py\", line 1288, in structured_traceback\n",
      "    return FormattedTB.structured_traceback(\n",
      "  File \"c:\\Users\\somit\\Downloads\\project_ineuron\\insurence_premium_prediction\\env\\lib\\site-packages\\IPython\\core\\ultratb.py\", line 1177, in structured_traceback\n",
      "    return VerboseTB.structured_traceback(\n",
      "  File \"c:\\Users\\somit\\Downloads\\project_ineuron\\insurence_premium_prediction\\env\\lib\\site-packages\\IPython\\core\\ultratb.py\", line 1049, in structured_traceback\n",
      "    formatted_exceptions += self.format_exception_as_a_whole(etype, evalue, etb, lines_of_context,\n",
      "  File \"c:\\Users\\somit\\Downloads\\project_ineuron\\insurence_premium_prediction\\env\\lib\\site-packages\\IPython\\core\\ultratb.py\", line 935, in format_exception_as_a_whole\n",
      "    self.get_records(etb, number_of_lines_of_context, tb_offset) if etb else []\n",
      "  File \"c:\\Users\\somit\\Downloads\\project_ineuron\\insurence_premium_prediction\\env\\lib\\site-packages\\IPython\\core\\ultratb.py\", line 1003, in get_records\n",
      "    lines, first = inspect.getsourcelines(etb.tb_frame)\n",
      "  File \"c:\\Users\\somit\\Downloads\\project_ineuron\\insurence_premium_prediction\\env\\lib\\inspect.py\", line 979, in getsourcelines\n",
      "    lines, lnum = findsource(object)\n",
      "  File \"c:\\Users\\somit\\Downloads\\project_ineuron\\insurence_premium_prediction\\env\\lib\\inspect.py\", line 798, in findsource\n",
      "    raise OSError('could not get source code')\n",
      "OSError: could not get source code\n"
     ]
    }
   ],
   "source": [
    "train_file_path=ConfigurationManager().get_data_ingestion_config().ingested_train_dir\n",
    "test_file_path=ConfigurationManager().get_data_ingestion_config().ingested_test_dir\n",
    "schema_file_path=ConfigurationManager().get_data_validation_config().schema_file_path\n",
    "df=DataTransformation().load_data(file_path=train_file_path,schema_file_path=schema_file_path)\n",
    "\n",
    "\n"
   ]
  },
  {
   "cell_type": "code",
   "execution_count": 21,
   "metadata": {},
   "outputs": [
    {
     "name": "stdout",
     "output_type": "stream",
     "text": [
      "[2023-03-21 09:16:20,786: INFO: common]: yaml file: config\\config.yaml loaded successfully\n",
      "[2023-03-21 09:16:20,793: INFO: common]: yaml file: params.yaml loaded successfully\n",
      "[2023-03-21 09:16:20,795: INFO: common]: created directory at: artifacts\n",
      "[2023-03-21 09:16:20,802: INFO: common]: yaml file: config\\config.yaml loaded successfully\n",
      "[2023-03-21 09:16:20,806: INFO: common]: yaml file: params.yaml loaded successfully\n",
      "[2023-03-21 09:16:20,808: INFO: common]: created directory at: artifacts\n",
      "Unexpected exception formatting exception. Falling back to standard exception\n"
     ]
    },
    {
     "name": "stderr",
     "output_type": "stream",
     "text": [
      "Traceback (most recent call last):\n",
      "  File \"box\\box.py\", line 503, in box.box.Box.__getitem__\n",
      "KeyError: 'train_file_path'\n",
      "\n",
      "The above exception was the direct cause of the following exception:\n",
      "\n",
      "Traceback (most recent call last):\n",
      "  File \"box\\box.py\", line 536, in box.box.Box.__getattr__\n",
      "  File \"box\\box.py\", line 524, in box.box.Box.__getitem__\n",
      "box.exceptions.BoxKeyError: \"'train_file_path'\"\n",
      "\n",
      "During handling of the above exception, another exception occurred:\n",
      "\n",
      "Traceback (most recent call last):\n",
      "  File \"box\\box.py\", line 538, in box.box.Box.__getattr__\n",
      "AttributeError: 'ConfigBox' object has no attribute 'train_file_path'\n",
      "\n",
      "The above exception was the direct cause of the following exception:\n",
      "\n",
      "Traceback (most recent call last):\n",
      "  File \"box\\config_box.py\", line 28, in box.config_box.ConfigBox.__getattr__\n",
      "  File \"box\\box.py\", line 552, in box.box.Box.__getattr__\n",
      "box.exceptions.BoxKeyError: \"'ConfigBox' object has no attribute 'train_file_path'\"\n",
      "\n",
      "During handling of the above exception, another exception occurred:\n",
      "\n",
      "Traceback (most recent call last):\n",
      "  File \"box\\box.py\", line 503, in box.box.Box.__getitem__\n",
      "KeyError: 'train_file_path'\n",
      "\n",
      "The above exception was the direct cause of the following exception:\n",
      "\n",
      "Traceback (most recent call last):\n",
      "  File \"box\\box.py\", line 536, in box.box.Box.__getattr__\n",
      "  File \"box\\box.py\", line 524, in box.box.Box.__getitem__\n",
      "box.exceptions.BoxKeyError: \"'train_file_path'\"\n",
      "\n",
      "During handling of the above exception, another exception occurred:\n",
      "\n",
      "Traceback (most recent call last):\n",
      "  File \"box\\box.py\", line 538, in box.box.Box.__getattr__\n",
      "AttributeError: 'ConfigBox' object has no attribute 'train_file_path'\n",
      "\n",
      "The above exception was the direct cause of the following exception:\n",
      "\n",
      "Traceback (most recent call last):\n",
      "  File \"c:\\Users\\somit\\Downloads\\project_ineuron\\insurence_premium_prediction\\env\\lib\\site-packages\\IPython\\core\\interactiveshell.py\", line 3460, in run_code\n",
      "    exec(code_obj, self.user_global_ns, self.user_ns)\n",
      "  File \"C:\\Users\\somit\\AppData\\Local\\Temp\\ipykernel_23260\\3982192514.py\", line 13, in <module>\n",
      "    raise e\n",
      "  File \"C:\\Users\\somit\\AppData\\Local\\Temp\\ipykernel_23260\\3982192514.py\", line 3, in <module>\n",
      "    df_test=DataTransformation().load_data(file_path=test_file_path,schema_file_path=schema_file_path)\n",
      "  File \"C:\\Users\\somit\\AppData\\Local\\Temp\\ipykernel_23260\\3534771309.py\", line 7, in __init__\n",
      "    self.get_data_transformation_config=self.config.get_data_transformation_config()\n",
      "  File \"C:\\Users\\somit\\AppData\\Local\\Temp\\ipykernel_23260\\4157307571.py\", line 51, in get_data_transformation_config\n",
      "    raise e\n",
      "  File \"C:\\Users\\somit\\AppData\\Local\\Temp\\ipykernel_23260\\4157307571.py\", line 41, in get_data_transformation_config\n",
      "    train_file_path=Path(transformation_config.train_file_path),\n",
      "  File \"box\\config_box.py\", line 30, in box.config_box.ConfigBox.__getattr__\n",
      "  File \"box\\box.py\", line 552, in box.box.Box.__getattr__\n",
      "box.exceptions.BoxKeyError: \"'ConfigBox' object has no attribute 'train_file_path'\"\n",
      "\n",
      "During handling of the above exception, another exception occurred:\n",
      "\n",
      "Traceback (most recent call last):\n",
      "  File \"c:\\Users\\somit\\Downloads\\project_ineuron\\insurence_premium_prediction\\env\\lib\\site-packages\\IPython\\core\\interactiveshell.py\", line 2057, in showtraceback\n",
      "    stb = self.InteractiveTB.structured_traceback(\n",
      "  File \"c:\\Users\\somit\\Downloads\\project_ineuron\\insurence_premium_prediction\\env\\lib\\site-packages\\IPython\\core\\ultratb.py\", line 1288, in structured_traceback\n",
      "    return FormattedTB.structured_traceback(\n",
      "  File \"c:\\Users\\somit\\Downloads\\project_ineuron\\insurence_premium_prediction\\env\\lib\\site-packages\\IPython\\core\\ultratb.py\", line 1177, in structured_traceback\n",
      "    return VerboseTB.structured_traceback(\n",
      "  File \"c:\\Users\\somit\\Downloads\\project_ineuron\\insurence_premium_prediction\\env\\lib\\site-packages\\IPython\\core\\ultratb.py\", line 1049, in structured_traceback\n",
      "    formatted_exceptions += self.format_exception_as_a_whole(etype, evalue, etb, lines_of_context,\n",
      "  File \"c:\\Users\\somit\\Downloads\\project_ineuron\\insurence_premium_prediction\\env\\lib\\site-packages\\IPython\\core\\ultratb.py\", line 935, in format_exception_as_a_whole\n",
      "    self.get_records(etb, number_of_lines_of_context, tb_offset) if etb else []\n",
      "  File \"c:\\Users\\somit\\Downloads\\project_ineuron\\insurence_premium_prediction\\env\\lib\\site-packages\\IPython\\core\\ultratb.py\", line 1003, in get_records\n",
      "    lines, first = inspect.getsourcelines(etb.tb_frame)\n",
      "  File \"c:\\Users\\somit\\Downloads\\project_ineuron\\insurence_premium_prediction\\env\\lib\\inspect.py\", line 979, in getsourcelines\n",
      "    lines, lnum = findsource(object)\n",
      "  File \"c:\\Users\\somit\\Downloads\\project_ineuron\\insurence_premium_prediction\\env\\lib\\inspect.py\", line 798, in findsource\n",
      "    raise OSError('could not get source code')\n",
      "OSError: could not get source code\n"
     ]
    }
   ],
   "source": [
    "try:\n",
    "    test_file_path=ConfigurationManager().get_data_ingestion_config().ingested_test_dir\n",
    "    df_test=DataTransformation().load_data(file_path=test_file_path,schema_file_path=schema_file_path)\n",
    "    df_test.head()\n",
    "    target_column=schema[TARGET_COLUMN_KEY]\n",
    "\n",
    "    df.drop(columns=target_column,axis=1)\n",
    "\n",
    "    target_feature_test_df=df_test[target_column]\n",
    "    input_feature_test_df=df_test.drop(columns=target_column , axis=1)\n",
    "    pre.transform(input_feature_test_df)\n",
    "except Exception as e:\n",
    "    raise e    "
   ]
  },
  {
   "cell_type": "code",
   "execution_count": 37,
   "metadata": {},
   "outputs": [
    {
     "data": {
      "text/html": [
       "<div>\n",
       "<style scoped>\n",
       "    .dataframe tbody tr th:only-of-type {\n",
       "        vertical-align: middle;\n",
       "    }\n",
       "\n",
       "    .dataframe tbody tr th {\n",
       "        vertical-align: top;\n",
       "    }\n",
       "\n",
       "    .dataframe thead th {\n",
       "        text-align: right;\n",
       "    }\n",
       "</style>\n",
       "<table border=\"1\" class=\"dataframe\">\n",
       "  <thead>\n",
       "    <tr style=\"text-align: right;\">\n",
       "      <th></th>\n",
       "      <th>age</th>\n",
       "      <th>sex</th>\n",
       "      <th>bmi</th>\n",
       "      <th>children</th>\n",
       "      <th>smoker</th>\n",
       "      <th>region</th>\n",
       "      <th>expenses</th>\n",
       "    </tr>\n",
       "    <tr>\n",
       "      <th>Unnamed: 0</th>\n",
       "      <th></th>\n",
       "      <th></th>\n",
       "      <th></th>\n",
       "      <th></th>\n",
       "      <th></th>\n",
       "      <th></th>\n",
       "      <th></th>\n",
       "    </tr>\n",
       "  </thead>\n",
       "  <tbody>\n",
       "    <tr>\n",
       "      <th>1215</th>\n",
       "      <td>55</td>\n",
       "      <td>male</td>\n",
       "      <td>38.3</td>\n",
       "      <td>0</td>\n",
       "      <td>no</td>\n",
       "      <td>southeast</td>\n",
       "      <td>10226.28</td>\n",
       "    </tr>\n",
       "    <tr>\n",
       "      <th>547</th>\n",
       "      <td>43</td>\n",
       "      <td>female</td>\n",
       "      <td>32.6</td>\n",
       "      <td>3</td>\n",
       "      <td>yes</td>\n",
       "      <td>southeast</td>\n",
       "      <td>40941.29</td>\n",
       "    </tr>\n",
       "    <tr>\n",
       "      <th>370</th>\n",
       "      <td>43</td>\n",
       "      <td>male</td>\n",
       "      <td>30.1</td>\n",
       "      <td>3</td>\n",
       "      <td>no</td>\n",
       "      <td>northwest</td>\n",
       "      <td>8410.05</td>\n",
       "    </tr>\n",
       "    <tr>\n",
       "      <th>525</th>\n",
       "      <td>46</td>\n",
       "      <td>female</td>\n",
       "      <td>35.5</td>\n",
       "      <td>0</td>\n",
       "      <td>yes</td>\n",
       "      <td>northeast</td>\n",
       "      <td>42111.66</td>\n",
       "    </tr>\n",
       "    <tr>\n",
       "      <th>1093</th>\n",
       "      <td>51</td>\n",
       "      <td>male</td>\n",
       "      <td>33.3</td>\n",
       "      <td>3</td>\n",
       "      <td>no</td>\n",
       "      <td>southeast</td>\n",
       "      <td>10560.49</td>\n",
       "    </tr>\n",
       "  </tbody>\n",
       "</table>\n",
       "</div>"
      ],
      "text/plain": [
       "            age     sex   bmi  children smoker     region  expenses\n",
       "Unnamed: 0                                                         \n",
       "1215         55    male  38.3         0     no  southeast  10226.28\n",
       "547          43  female  32.6         3    yes  southeast  40941.29\n",
       "370          43    male  30.1         3     no  northwest   8410.05\n",
       "525          46  female  35.5         0    yes  northeast  42111.66\n",
       "1093         51    male  33.3         3     no  southeast  10560.49"
      ]
     },
     "execution_count": 37,
     "metadata": {},
     "output_type": "execute_result"
    }
   ],
   "source": [
    "file_path=pd.read_csv(r\"C:\\Users\\somit\\Downloads\\project_ineuron\\insurence_premium_prediction\\artifacts\\data_ingestion\\train\\insurence.csv\",index_col='Unnamed: 0')\n",
    "file_path.head()"
   ]
  },
  {
   "cell_type": "code",
   "execution_count": 38,
   "metadata": {},
   "outputs": [
    {
     "data": {
      "text/plain": [
       "age           int64\n",
       "sex          object\n",
       "bmi         float64\n",
       "children      int64\n",
       "smoker       object\n",
       "region       object\n",
       "expenses    float64\n",
       "dtype: object"
      ]
     },
     "execution_count": 38,
     "metadata": {},
     "output_type": "execute_result"
    }
   ],
   "source": [
    "\n",
    "file_path.dtypes"
   ]
  },
  {
   "cell_type": "code",
   "execution_count": 45,
   "metadata": {},
   "outputs": [],
   "source": [
    "schema_file_path=Path(\"config\\schema.yaml\")"
   ]
  },
  {
   "cell_type": "code",
   "execution_count": 24,
   "metadata": {},
   "outputs": [],
   "source": []
  },
  {
   "cell_type": "code",
   "execution_count": 8,
   "metadata": {},
   "outputs": [
    {
     "name": "stdout",
     "output_type": "stream",
     "text": [
      "[2023-03-20 23:02:40,852: INFO: common]: yaml file: config\\config.yaml loaded successfully\n",
      "[2023-03-20 23:02:40,859: INFO: common]: yaml file: params.yaml loaded successfully\n",
      "[2023-03-20 23:02:40,863: INFO: common]: created directory at: artifacts\n"
     ]
    },
    {
     "ename": "NameError",
     "evalue": "name 'DataTransformation' is not defined",
     "output_type": "error",
     "traceback": [
      "\u001b[1;31m---------------------------------------------------------------------------\u001b[0m",
      "\u001b[1;31mNameError\u001b[0m                                 Traceback (most recent call last)",
      "Cell \u001b[1;32mIn[8], line 8\u001b[0m\n\u001b[0;32m      5\u001b[0m     data_transformation\u001b[39m.\u001b[39mload_data(file_path\u001b[39m=\u001b[39mfile_path ,schema_file_path\u001b[39m=\u001b[39mschema_file_path)\n\u001b[0;32m      7\u001b[0m \u001b[39mexcept\u001b[39;00m \u001b[39mException\u001b[39;00m \u001b[39mas\u001b[39;00m e:\n\u001b[1;32m----> 8\u001b[0m     \u001b[39mraise\u001b[39;00m e    \n",
      "Cell \u001b[1;32mIn[8], line 4\u001b[0m\n\u001b[0;32m      2\u001b[0m     con_obj \u001b[39m=\u001b[39m ConfigurationManager()\n\u001b[0;32m      3\u001b[0m     data_transformation_config \u001b[39m=\u001b[39m con_obj\u001b[39m.\u001b[39mget_data_transformation_config()\n\u001b[1;32m----> 4\u001b[0m     data_transformation \u001b[39m=\u001b[39m DataTransformation()\n\u001b[0;32m      5\u001b[0m     data_transformation\u001b[39m.\u001b[39mload_data(file_path\u001b[39m=\u001b[39mfile_path ,schema_file_path\u001b[39m=\u001b[39mschema_file_path)\n\u001b[0;32m      7\u001b[0m \u001b[39mexcept\u001b[39;00m \u001b[39mException\u001b[39;00m \u001b[39mas\u001b[39;00m e:\n",
      "\u001b[1;31mNameError\u001b[0m: name 'DataTransformation' is not defined"
     ]
    }
   ],
   "source": [
    "try:\n",
    "    con_obj = ConfigurationManager()\n",
    "    data_transformation_config = con_obj.get_data_transformation_config()\n",
    "    data_transformation = DataTransformation()\n",
    "    data_transformation.load_data(file_path=file_path ,schema_file_path=schema_file_path)\n",
    "    \n",
    "except Exception as e:\n",
    "    raise e    "
   ]
  },
  {
   "cell_type": "code",
   "execution_count": 48,
   "metadata": {},
   "outputs": [
    {
     "name": "stdout",
     "output_type": "stream",
     "text": [
      "[2023-03-18 08:12:14,697: INFO: common]: yaml file: config\\schema.yaml loaded successfully\n"
     ]
    },
    {
     "ename": "NameError",
     "evalue": "name 'data_frame' is not defined",
     "output_type": "error",
     "traceback": [
      "\u001b[1;31m---------------------------------------------------------------------------\u001b[0m",
      "\u001b[1;31mNameError\u001b[0m                                 Traceback (most recent call last)",
      "Cell \u001b[1;32mIn[48], line 2\u001b[0m\n\u001b[0;32m      1\u001b[0m data_transformation\u001b[39m.\u001b[39mload_data(file_path\u001b[39m=\u001b[39mfile_path ,schema_file_path\u001b[39m=\u001b[39mschema_file_path)\n\u001b[1;32m----> 2\u001b[0m data_frame\u001b[39m.\u001b[39mcolumns\n",
      "\u001b[1;31mNameError\u001b[0m: name 'data_frame' is not defined"
     ]
    }
   ],
   "source": [
    "data_transformation.load_data(file_path=file_path ,schema_file_path=schema_file_path)\n",
    "data_frame.columns"
   ]
  },
  {
   "cell_type": "code",
   "execution_count": 23,
   "metadata": {},
   "outputs": [
    {
     "ename": "NameError",
     "evalue": "name 'SCHEMA_FILE_PATH' is not defined",
     "output_type": "error",
     "traceback": [
      "\u001b[1;31m---------------------------------------------------------------------------\u001b[0m",
      "\u001b[1;31mNameError\u001b[0m                                 Traceback (most recent call last)",
      "Cell \u001b[1;32mIn[23], line 1\u001b[0m\n\u001b[1;32m----> 1\u001b[0m SCHEMA_FILE_PATH\n",
      "\u001b[1;31mNameError\u001b[0m: name 'SCHEMA_FILE_PATH' is not defined"
     ]
    }
   ],
   "source": []
  },
  {
   "cell_type": "code",
   "execution_count": 31,
   "metadata": {},
   "outputs": [],
   "source": [
    "import pandas as pd"
   ]
  },
  {
   "cell_type": "code",
   "execution_count": 98,
   "metadata": {},
   "outputs": [],
   "source": [
    "df=pd.read_csv(r\"C:\\Users\\somit\\Downloads\\project_ineuron\\insurence_premium_prediction\\artifacts\\data_ingestion\\train\\insurence.csv\",index_col='Unnamed: 0')"
   ]
  },
  {
   "cell_type": "code",
   "execution_count": 132,
   "metadata": {},
   "outputs": [
    {
     "data": {
      "text/html": [
       "<div>\n",
       "<style scoped>\n",
       "    .dataframe tbody tr th:only-of-type {\n",
       "        vertical-align: middle;\n",
       "    }\n",
       "\n",
       "    .dataframe tbody tr th {\n",
       "        vertical-align: top;\n",
       "    }\n",
       "\n",
       "    .dataframe thead th {\n",
       "        text-align: right;\n",
       "    }\n",
       "</style>\n",
       "<table border=\"1\" class=\"dataframe\">\n",
       "  <thead>\n",
       "    <tr style=\"text-align: right;\">\n",
       "      <th></th>\n",
       "      <th>age</th>\n",
       "      <th>sex</th>\n",
       "      <th>bmi</th>\n",
       "      <th>children</th>\n",
       "      <th>smoker</th>\n",
       "      <th>region</th>\n",
       "      <th>expenses</th>\n",
       "    </tr>\n",
       "    <tr>\n",
       "      <th>Unnamed: 0</th>\n",
       "      <th></th>\n",
       "      <th></th>\n",
       "      <th></th>\n",
       "      <th></th>\n",
       "      <th></th>\n",
       "      <th></th>\n",
       "      <th></th>\n",
       "    </tr>\n",
       "  </thead>\n",
       "  <tbody>\n",
       "    <tr>\n",
       "      <th>1215</th>\n",
       "      <td>55</td>\n",
       "      <td>male</td>\n",
       "      <td>38.3</td>\n",
       "      <td>0</td>\n",
       "      <td>no</td>\n",
       "      <td>southeast</td>\n",
       "      <td>10226.28</td>\n",
       "    </tr>\n",
       "    <tr>\n",
       "      <th>547</th>\n",
       "      <td>43</td>\n",
       "      <td>female</td>\n",
       "      <td>32.6</td>\n",
       "      <td>3</td>\n",
       "      <td>yes</td>\n",
       "      <td>southeast</td>\n",
       "      <td>40941.29</td>\n",
       "    </tr>\n",
       "    <tr>\n",
       "      <th>370</th>\n",
       "      <td>43</td>\n",
       "      <td>male</td>\n",
       "      <td>30.1</td>\n",
       "      <td>3</td>\n",
       "      <td>no</td>\n",
       "      <td>northwest</td>\n",
       "      <td>8410.05</td>\n",
       "    </tr>\n",
       "    <tr>\n",
       "      <th>525</th>\n",
       "      <td>46</td>\n",
       "      <td>female</td>\n",
       "      <td>35.5</td>\n",
       "      <td>0</td>\n",
       "      <td>yes</td>\n",
       "      <td>northeast</td>\n",
       "      <td>42111.66</td>\n",
       "    </tr>\n",
       "    <tr>\n",
       "      <th>1093</th>\n",
       "      <td>51</td>\n",
       "      <td>male</td>\n",
       "      <td>33.3</td>\n",
       "      <td>3</td>\n",
       "      <td>no</td>\n",
       "      <td>southeast</td>\n",
       "      <td>10560.49</td>\n",
       "    </tr>\n",
       "  </tbody>\n",
       "</table>\n",
       "</div>"
      ],
      "text/plain": [
       "            age     sex   bmi  children smoker     region  expenses\n",
       "Unnamed: 0                                                         \n",
       "1215         55    male  38.3         0     no  southeast  10226.28\n",
       "547          43  female  32.6         3    yes  southeast  40941.29\n",
       "370          43    male  30.1         3     no  northwest   8410.05\n",
       "525          46  female  35.5         0    yes  northeast  42111.66\n",
       "1093         51    male  33.3         3     no  southeast  10560.49"
      ]
     },
     "execution_count": 132,
     "metadata": {},
     "output_type": "execute_result"
    }
   ],
   "source": [
    "df.head()"
   ]
  },
  {
   "cell_type": "code",
   "execution_count": 100,
   "metadata": {},
   "outputs": [],
   "source": [
    "x,y =df.drop(columns=['expenses']) ,df[['expenses']]"
   ]
  },
  {
   "cell_type": "code",
   "execution_count": 101,
   "metadata": {},
   "outputs": [
    {
     "data": {
      "text/html": [
       "<div>\n",
       "<style scoped>\n",
       "    .dataframe tbody tr th:only-of-type {\n",
       "        vertical-align: middle;\n",
       "    }\n",
       "\n",
       "    .dataframe tbody tr th {\n",
       "        vertical-align: top;\n",
       "    }\n",
       "\n",
       "    .dataframe thead th {\n",
       "        text-align: right;\n",
       "    }\n",
       "</style>\n",
       "<table border=\"1\" class=\"dataframe\">\n",
       "  <thead>\n",
       "    <tr style=\"text-align: right;\">\n",
       "      <th></th>\n",
       "      <th>age</th>\n",
       "      <th>sex</th>\n",
       "      <th>bmi</th>\n",
       "      <th>children</th>\n",
       "      <th>smoker</th>\n",
       "      <th>region</th>\n",
       "    </tr>\n",
       "    <tr>\n",
       "      <th>Unnamed: 0</th>\n",
       "      <th></th>\n",
       "      <th></th>\n",
       "      <th></th>\n",
       "      <th></th>\n",
       "      <th></th>\n",
       "      <th></th>\n",
       "    </tr>\n",
       "  </thead>\n",
       "  <tbody>\n",
       "    <tr>\n",
       "      <th>1215</th>\n",
       "      <td>55</td>\n",
       "      <td>male</td>\n",
       "      <td>38.3</td>\n",
       "      <td>0</td>\n",
       "      <td>no</td>\n",
       "      <td>southeast</td>\n",
       "    </tr>\n",
       "    <tr>\n",
       "      <th>547</th>\n",
       "      <td>43</td>\n",
       "      <td>female</td>\n",
       "      <td>32.6</td>\n",
       "      <td>3</td>\n",
       "      <td>yes</td>\n",
       "      <td>southeast</td>\n",
       "    </tr>\n",
       "    <tr>\n",
       "      <th>370</th>\n",
       "      <td>43</td>\n",
       "      <td>male</td>\n",
       "      <td>30.1</td>\n",
       "      <td>3</td>\n",
       "      <td>no</td>\n",
       "      <td>northwest</td>\n",
       "    </tr>\n",
       "    <tr>\n",
       "      <th>525</th>\n",
       "      <td>46</td>\n",
       "      <td>female</td>\n",
       "      <td>35.5</td>\n",
       "      <td>0</td>\n",
       "      <td>yes</td>\n",
       "      <td>northeast</td>\n",
       "    </tr>\n",
       "    <tr>\n",
       "      <th>1093</th>\n",
       "      <td>51</td>\n",
       "      <td>male</td>\n",
       "      <td>33.3</td>\n",
       "      <td>3</td>\n",
       "      <td>no</td>\n",
       "      <td>southeast</td>\n",
       "    </tr>\n",
       "    <tr>\n",
       "      <th>...</th>\n",
       "      <td>...</td>\n",
       "      <td>...</td>\n",
       "      <td>...</td>\n",
       "      <td>...</td>\n",
       "      <td>...</td>\n",
       "      <td>...</td>\n",
       "    </tr>\n",
       "    <tr>\n",
       "      <th>1050</th>\n",
       "      <td>29</td>\n",
       "      <td>male</td>\n",
       "      <td>33.3</td>\n",
       "      <td>2</td>\n",
       "      <td>no</td>\n",
       "      <td>northwest</td>\n",
       "    </tr>\n",
       "    <tr>\n",
       "      <th>487</th>\n",
       "      <td>31</td>\n",
       "      <td>male</td>\n",
       "      <td>39.5</td>\n",
       "      <td>1</td>\n",
       "      <td>no</td>\n",
       "      <td>southeast</td>\n",
       "    </tr>\n",
       "    <tr>\n",
       "      <th>648</th>\n",
       "      <td>46</td>\n",
       "      <td>female</td>\n",
       "      <td>28.9</td>\n",
       "      <td>2</td>\n",
       "      <td>no</td>\n",
       "      <td>southwest</td>\n",
       "    </tr>\n",
       "    <tr>\n",
       "      <th>900</th>\n",
       "      <td>27</td>\n",
       "      <td>male</td>\n",
       "      <td>33.2</td>\n",
       "      <td>2</td>\n",
       "      <td>no</td>\n",
       "      <td>northwest</td>\n",
       "    </tr>\n",
       "    <tr>\n",
       "      <th>290</th>\n",
       "      <td>18</td>\n",
       "      <td>female</td>\n",
       "      <td>38.3</td>\n",
       "      <td>0</td>\n",
       "      <td>no</td>\n",
       "      <td>southeast</td>\n",
       "    </tr>\n",
       "  </tbody>\n",
       "</table>\n",
       "<p>1069 rows × 6 columns</p>\n",
       "</div>"
      ],
      "text/plain": [
       "            age     sex   bmi  children smoker     region\n",
       "Unnamed: 0                                               \n",
       "1215         55    male  38.3         0     no  southeast\n",
       "547          43  female  32.6         3    yes  southeast\n",
       "370          43    male  30.1         3     no  northwest\n",
       "525          46  female  35.5         0    yes  northeast\n",
       "1093         51    male  33.3         3     no  southeast\n",
       "...         ...     ...   ...       ...    ...        ...\n",
       "1050         29    male  33.3         2     no  northwest\n",
       "487          31    male  39.5         1     no  southeast\n",
       "648          46  female  28.9         2     no  southwest\n",
       "900          27    male  33.2         2     no  northwest\n",
       "290          18  female  38.3         0     no  southeast\n",
       "\n",
       "[1069 rows x 6 columns]"
      ]
     },
     "execution_count": 101,
     "metadata": {},
     "output_type": "execute_result"
    }
   ],
   "source": [
    "x"
   ]
  },
  {
   "cell_type": "code",
   "execution_count": 102,
   "metadata": {},
   "outputs": [
    {
     "data": {
      "text/plain": [
       "age         0\n",
       "sex         0\n",
       "bmi         0\n",
       "children    0\n",
       "smoker      0\n",
       "region      0\n",
       "dtype: int64"
      ]
     },
     "execution_count": 102,
     "metadata": {},
     "output_type": "execute_result"
    }
   ],
   "source": [
    "x.isna().sum()"
   ]
  },
  {
   "cell_type": "code",
   "execution_count": 103,
   "metadata": {},
   "outputs": [],
   "source": [
    "x_cat=[i for i in x.columns if df[i].dtypes=='O']"
   ]
  },
  {
   "cell_type": "code",
   "execution_count": 104,
   "metadata": {},
   "outputs": [
    {
     "data": {
      "text/plain": [
       "['sex', 'smoker', 'region']"
      ]
     },
     "execution_count": 104,
     "metadata": {},
     "output_type": "execute_result"
    }
   ],
   "source": [
    "x_cat"
   ]
  },
  {
   "cell_type": "code",
   "execution_count": 105,
   "metadata": {},
   "outputs": [],
   "source": [
    "x_num=[i for i in x.columns if df[i].dtypes!='O']"
   ]
  },
  {
   "cell_type": "code",
   "execution_count": 106,
   "metadata": {},
   "outputs": [],
   "source": [
    "df_num=df[x_num]"
   ]
  },
  {
   "cell_type": "code",
   "execution_count": 107,
   "metadata": {},
   "outputs": [],
   "source": [
    "import sklearn\n",
    "from sklearn.impute import SimpleImputer"
   ]
  },
  {
   "cell_type": "code",
   "execution_count": 108,
   "metadata": {},
   "outputs": [],
   "source": [
    "imp=SimpleImputer(strategy='median')"
   ]
  },
  {
   "cell_type": "code",
   "execution_count": 41,
   "metadata": {},
   "outputs": [
    {
     "data": {
      "text/plain": [
       "array([[55. , 38.3,  0. ],\n",
       "       [43. , 32.6,  3. ],\n",
       "       [43. , 30.1,  3. ],\n",
       "       ...,\n",
       "       [46. , 28.9,  2. ],\n",
       "       [27. , 33.2,  2. ],\n",
       "       [18. , 38.3,  0. ]])"
      ]
     },
     "execution_count": 41,
     "metadata": {},
     "output_type": "execute_result"
    }
   ],
   "source": [
    "imp.fit_transform(df_num)"
   ]
  },
  {
   "cell_type": "code",
   "execution_count": 42,
   "metadata": {},
   "outputs": [
    {
     "data": {
      "text/plain": [
       "array([40. , 30.2,  1. ])"
      ]
     },
     "execution_count": 42,
     "metadata": {},
     "output_type": "execute_result"
    }
   ],
   "source": [
    "imp.statistics_"
   ]
  },
  {
   "cell_type": "code",
   "execution_count": 44,
   "metadata": {},
   "outputs": [],
   "source": [
    "class FeatureGenerater(TransformerMixin ,BaseEstimator):\n",
    "    def __init__(self,strategy=\"median\"):\n",
    "        self.strategy=strategy\n",
    "    def fit(self ,x):\n",
    "        self.features=x.columns\n",
    "\n",
    "        self.statistics_=[]\n",
    "        for column in x.columns:\n",
    "            self.statistics_.append(x[column].median)\n",
    "\n",
    "          \n",
    "        \n",
    "    def transform(self ,x:pd.DataFrame):\n",
    "        for idx,column in enumerate(x.columns):\n",
    "            x[column].fillna(self.statistics_[idx]) \n",
    "            return x\n",
    "        \n",
    "   \n"
   ]
  },
  {
   "cell_type": "code",
   "execution_count": 109,
   "metadata": {},
   "outputs": [],
   "source": [
    "class cstm_tra(BaseEstimator,TransformerMixin):\n",
    "    def __init__(self ,strategy:\"median\"):\n",
    "        self.strategy=strategy\n",
    "       \n",
    "    def fit(self ,x):\n",
    "        self.mean_=[]\n",
    "        self.std_=[]\n",
    "        for column in x.columns:\n",
    "            self.mean_.append(x[column].mean())\n",
    "            self.std_.append(x[column].std())\n",
    "        return self    \n",
    "    def transform(self,x:pd.DataFrame):\n",
    "        for idx ,column in enumerate(x.columns):\n",
    "            x[column]=((x[column]-self.mean_[idx])/self.std_[idx])\n",
    "            return x\n"
   ]
  },
  {
   "cell_type": "code",
   "execution_count": 110,
   "metadata": {},
   "outputs": [
    {
     "name": "stdout",
     "output_type": "stream",
     "text": [
      "0 age\n",
      "1 bmi\n",
      "2 children\n"
     ]
    }
   ],
   "source": [
    "for idx ,column in enumerate(df_num.columns):\n",
    "    print(idx ,column)\n"
   ]
  },
  {
   "cell_type": "code",
   "execution_count": 111,
   "metadata": {},
   "outputs": [],
   "source": [
    "a=cstm_tra(strategy=\"median\")"
   ]
  },
  {
   "cell_type": "code",
   "execution_count": 112,
   "metadata": {},
   "outputs": [
    {
     "ename": "AttributeError",
     "evalue": "'cstm_tra' object has no attribute 'mean_'",
     "output_type": "error",
     "traceback": [
      "\u001b[1;31m---------------------------------------------------------------------------\u001b[0m",
      "\u001b[1;31mAttributeError\u001b[0m                            Traceback (most recent call last)",
      "Cell \u001b[1;32mIn[112], line 1\u001b[0m\n\u001b[1;32m----> 1\u001b[0m a\u001b[39m.\u001b[39;49mmean_\n",
      "\u001b[1;31mAttributeError\u001b[0m: 'cstm_tra' object has no attribute 'mean_'"
     ]
    }
   ],
   "source": [
    "a.mean_"
   ]
  },
  {
   "cell_type": "code",
   "execution_count": 113,
   "metadata": {},
   "outputs": [
    {
     "name": "stderr",
     "output_type": "stream",
     "text": [
      "C:\\Users\\somit\\AppData\\Local\\Temp\\ipykernel_4256\\2736238233.py:14: SettingWithCopyWarning: \n",
      "A value is trying to be set on a copy of a slice from a DataFrame.\n",
      "Try using .loc[row_indexer,col_indexer] = value instead\n",
      "\n",
      "See the caveats in the documentation: https://pandas.pydata.org/pandas-docs/stable/user_guide/indexing.html#returning-a-view-versus-a-copy\n",
      "  x[column]=((x[column]-self.mean_[idx])/self.std_[idx])\n"
     ]
    },
    {
     "data": {
      "text/html": [
       "<div>\n",
       "<style scoped>\n",
       "    .dataframe tbody tr th:only-of-type {\n",
       "        vertical-align: middle;\n",
       "    }\n",
       "\n",
       "    .dataframe tbody tr th {\n",
       "        vertical-align: top;\n",
       "    }\n",
       "\n",
       "    .dataframe thead th {\n",
       "        text-align: right;\n",
       "    }\n",
       "</style>\n",
       "<table border=\"1\" class=\"dataframe\">\n",
       "  <thead>\n",
       "    <tr style=\"text-align: right;\">\n",
       "      <th></th>\n",
       "      <th>age</th>\n",
       "      <th>bmi</th>\n",
       "      <th>children</th>\n",
       "    </tr>\n",
       "    <tr>\n",
       "      <th>Unnamed: 0</th>\n",
       "      <th></th>\n",
       "      <th></th>\n",
       "      <th></th>\n",
       "    </tr>\n",
       "  </thead>\n",
       "  <tbody>\n",
       "    <tr>\n",
       "      <th>1215</th>\n",
       "      <td>1.122495</td>\n",
       "      <td>38.3</td>\n",
       "      <td>0</td>\n",
       "    </tr>\n",
       "    <tr>\n",
       "      <th>547</th>\n",
       "      <td>0.264982</td>\n",
       "      <td>32.6</td>\n",
       "      <td>3</td>\n",
       "    </tr>\n",
       "    <tr>\n",
       "      <th>370</th>\n",
       "      <td>0.264982</td>\n",
       "      <td>30.1</td>\n",
       "      <td>3</td>\n",
       "    </tr>\n",
       "    <tr>\n",
       "      <th>525</th>\n",
       "      <td>0.479360</td>\n",
       "      <td>35.5</td>\n",
       "      <td>0</td>\n",
       "    </tr>\n",
       "    <tr>\n",
       "      <th>1093</th>\n",
       "      <td>0.836658</td>\n",
       "      <td>33.3</td>\n",
       "      <td>3</td>\n",
       "    </tr>\n",
       "    <tr>\n",
       "      <th>...</th>\n",
       "      <td>...</td>\n",
       "      <td>...</td>\n",
       "      <td>...</td>\n",
       "    </tr>\n",
       "    <tr>\n",
       "      <th>1050</th>\n",
       "      <td>-0.735451</td>\n",
       "      <td>33.3</td>\n",
       "      <td>2</td>\n",
       "    </tr>\n",
       "    <tr>\n",
       "      <th>487</th>\n",
       "      <td>-0.592532</td>\n",
       "      <td>39.5</td>\n",
       "      <td>1</td>\n",
       "    </tr>\n",
       "    <tr>\n",
       "      <th>648</th>\n",
       "      <td>0.479360</td>\n",
       "      <td>28.9</td>\n",
       "      <td>2</td>\n",
       "    </tr>\n",
       "    <tr>\n",
       "      <th>900</th>\n",
       "      <td>-0.878370</td>\n",
       "      <td>33.2</td>\n",
       "      <td>2</td>\n",
       "    </tr>\n",
       "    <tr>\n",
       "      <th>290</th>\n",
       "      <td>-1.521505</td>\n",
       "      <td>38.3</td>\n",
       "      <td>0</td>\n",
       "    </tr>\n",
       "  </tbody>\n",
       "</table>\n",
       "<p>1069 rows × 3 columns</p>\n",
       "</div>"
      ],
      "text/plain": [
       "                 age   bmi  children\n",
       "Unnamed: 0                          \n",
       "1215        1.122495  38.3         0\n",
       "547         0.264982  32.6         3\n",
       "370         0.264982  30.1         3\n",
       "525         0.479360  35.5         0\n",
       "1093        0.836658  33.3         3\n",
       "...              ...   ...       ...\n",
       "1050       -0.735451  33.3         2\n",
       "487        -0.592532  39.5         1\n",
       "648         0.479360  28.9         2\n",
       "900        -0.878370  33.2         2\n",
       "290        -1.521505  38.3         0\n",
       "\n",
       "[1069 rows x 3 columns]"
      ]
     },
     "execution_count": 113,
     "metadata": {},
     "output_type": "execute_result"
    }
   ],
   "source": [
    "a.fit(df_num)\n",
    "a.transform(df_num)"
   ]
  },
  {
   "cell_type": "code",
   "execution_count": 88,
   "metadata": {},
   "outputs": [
    {
     "data": {
      "text/html": [
       "<div>\n",
       "<style scoped>\n",
       "    .dataframe tbody tr th:only-of-type {\n",
       "        vertical-align: middle;\n",
       "    }\n",
       "\n",
       "    .dataframe tbody tr th {\n",
       "        vertical-align: top;\n",
       "    }\n",
       "\n",
       "    .dataframe thead th {\n",
       "        text-align: right;\n",
       "    }\n",
       "</style>\n",
       "<table border=\"1\" class=\"dataframe\">\n",
       "  <thead>\n",
       "    <tr style=\"text-align: right;\">\n",
       "      <th></th>\n",
       "      <th>age</th>\n",
       "      <th>bmi</th>\n",
       "      <th>children</th>\n",
       "    </tr>\n",
       "    <tr>\n",
       "      <th>Unnamed: 0</th>\n",
       "      <th></th>\n",
       "      <th></th>\n",
       "      <th></th>\n",
       "    </tr>\n",
       "  </thead>\n",
       "  <tbody>\n",
       "    <tr>\n",
       "      <th>1215</th>\n",
       "      <td>1.122495</td>\n",
       "      <td>38.3</td>\n",
       "      <td>0</td>\n",
       "    </tr>\n",
       "    <tr>\n",
       "      <th>547</th>\n",
       "      <td>0.264982</td>\n",
       "      <td>32.6</td>\n",
       "      <td>3</td>\n",
       "    </tr>\n",
       "    <tr>\n",
       "      <th>370</th>\n",
       "      <td>0.264982</td>\n",
       "      <td>30.1</td>\n",
       "      <td>3</td>\n",
       "    </tr>\n",
       "    <tr>\n",
       "      <th>525</th>\n",
       "      <td>0.479360</td>\n",
       "      <td>35.5</td>\n",
       "      <td>0</td>\n",
       "    </tr>\n",
       "    <tr>\n",
       "      <th>1093</th>\n",
       "      <td>0.836658</td>\n",
       "      <td>33.3</td>\n",
       "      <td>3</td>\n",
       "    </tr>\n",
       "    <tr>\n",
       "      <th>...</th>\n",
       "      <td>...</td>\n",
       "      <td>...</td>\n",
       "      <td>...</td>\n",
       "    </tr>\n",
       "    <tr>\n",
       "      <th>1050</th>\n",
       "      <td>-0.735451</td>\n",
       "      <td>33.3</td>\n",
       "      <td>2</td>\n",
       "    </tr>\n",
       "    <tr>\n",
       "      <th>487</th>\n",
       "      <td>-0.592532</td>\n",
       "      <td>39.5</td>\n",
       "      <td>1</td>\n",
       "    </tr>\n",
       "    <tr>\n",
       "      <th>648</th>\n",
       "      <td>0.479360</td>\n",
       "      <td>28.9</td>\n",
       "      <td>2</td>\n",
       "    </tr>\n",
       "    <tr>\n",
       "      <th>900</th>\n",
       "      <td>-0.878370</td>\n",
       "      <td>33.2</td>\n",
       "      <td>2</td>\n",
       "    </tr>\n",
       "    <tr>\n",
       "      <th>290</th>\n",
       "      <td>-1.521505</td>\n",
       "      <td>38.3</td>\n",
       "      <td>0</td>\n",
       "    </tr>\n",
       "  </tbody>\n",
       "</table>\n",
       "<p>1069 rows × 3 columns</p>\n",
       "</div>"
      ],
      "text/plain": [
       "                 age   bmi  children\n",
       "Unnamed: 0                          \n",
       "1215        1.122495  38.3         0\n",
       "547         0.264982  32.6         3\n",
       "370         0.264982  30.1         3\n",
       "525         0.479360  35.5         0\n",
       "1093        0.836658  33.3         3\n",
       "...              ...   ...       ...\n",
       "1050       -0.735451  33.3         2\n",
       "487        -0.592532  39.5         1\n",
       "648         0.479360  28.9         2\n",
       "900        -0.878370  33.2         2\n",
       "290        -1.521505  38.3         0\n",
       "\n",
       "[1069 rows x 3 columns]"
      ]
     },
     "execution_count": 88,
     "metadata": {},
     "output_type": "execute_result"
    }
   ],
   "source": [
    "df_num"
   ]
  },
  {
   "cell_type": "code",
   "execution_count": 10,
   "metadata": {},
   "outputs": [],
   "source": []
  },
  {
   "cell_type": "code",
   "execution_count": 20,
   "metadata": {},
   "outputs": [
    {
     "ename": "NameError",
     "evalue": "name 'SimpleImputer' is not defined",
     "output_type": "error",
     "traceback": [
      "\u001b[1;31m---------------------------------------------------------------------------\u001b[0m",
      "\u001b[1;31mNameError\u001b[0m                                 Traceback (most recent call last)",
      "Cell \u001b[1;32mIn[20], line 2\u001b[0m\n\u001b[0;32m      1\u001b[0m num_pipeline\u001b[39m=\u001b[39mPipeline(steps\u001b[39m=\u001b[39m[\n\u001b[1;32m----> 2\u001b[0m     (\u001b[39m'\u001b[39m\u001b[39mimputer\u001b[39m\u001b[39m'\u001b[39m,SimpleImputer(strategy\u001b[39m=\u001b[39m\u001b[39m\"\u001b[39m\u001b[39mmedian\u001b[39m\u001b[39m\"\u001b[39m)),\n\u001b[0;32m      3\u001b[0m     (\u001b[39m'\u001b[39m\u001b[39mscaling\u001b[39m\u001b[39m'\u001b[39m,StandardScaler())\n\u001b[0;32m      4\u001b[0m ])\n",
      "\u001b[1;31mNameError\u001b[0m: name 'SimpleImputer' is not defined"
     ]
    }
   ],
   "source": [
    "num_pipeline=Pipeline(steps=[\n",
    "    ('imputer',SimpleImputer(strategy=\"median\")),\n",
    "    ('scaling',StandardScaler())\n",
    "])"
   ]
  },
  {
   "cell_type": "code",
   "execution_count": 125,
   "metadata": {},
   "outputs": [],
   "source": [
    "cat_pipeline=Pipeline(steps=[\n",
    "    ('imputer',SimpleImputer(strategy=\"most_frequent\")),\n",
    "    ('encoding',OneHotEncoder()),\n",
    "    ('scaling',StandardScaler(with_mean=False))\n",
    "])"
   ]
  },
  {
   "cell_type": "code",
   "execution_count": 126,
   "metadata": {},
   "outputs": [
    {
     "data": {
      "text/plain": [
       "Index(['age', 'sex', 'bmi', 'children', 'smoker', 'region', 'expenses'], dtype='object')"
      ]
     },
     "execution_count": 126,
     "metadata": {},
     "output_type": "execute_result"
    }
   ],
   "source": [
    "df.columns"
   ]
  },
  {
   "cell_type": "code",
   "execution_count": 127,
   "metadata": {},
   "outputs": [],
   "source": [
    "preprocessing =ColumnTransformer(\n",
    "    [('num_pipeline',num_pipeline ,['age', 'bmi', 'children']),\n",
    "    ('cat_pipeline',cat_pipeline,['smoker', 'region','sex'])]\n",
    ")"
   ]
  },
  {
   "cell_type": "code",
   "execution_count": 129,
   "metadata": {},
   "outputs": [],
   "source": [
    "a=preprocessing.fit_transform(df)"
   ]
  },
  {
   "cell_type": "code",
   "execution_count": 130,
   "metadata": {},
   "outputs": [
    {
     "data": {
      "text/html": [
       "<div>\n",
       "<style scoped>\n",
       "    .dataframe tbody tr th:only-of-type {\n",
       "        vertical-align: middle;\n",
       "    }\n",
       "\n",
       "    .dataframe tbody tr th {\n",
       "        vertical-align: top;\n",
       "    }\n",
       "\n",
       "    .dataframe thead th {\n",
       "        text-align: right;\n",
       "    }\n",
       "</style>\n",
       "<table border=\"1\" class=\"dataframe\">\n",
       "  <thead>\n",
       "    <tr style=\"text-align: right;\">\n",
       "      <th></th>\n",
       "      <th>0</th>\n",
       "      <th>1</th>\n",
       "      <th>2</th>\n",
       "      <th>3</th>\n",
       "      <th>4</th>\n",
       "      <th>5</th>\n",
       "      <th>6</th>\n",
       "      <th>7</th>\n",
       "      <th>8</th>\n",
       "      <th>9</th>\n",
       "      <th>10</th>\n",
       "    </tr>\n",
       "  </thead>\n",
       "  <tbody>\n",
       "    <tr>\n",
       "      <th>0</th>\n",
       "      <td>1.123021</td>\n",
       "      <td>1.237113</td>\n",
       "      <td>-0.917597</td>\n",
       "      <td>2.473503</td>\n",
       "      <td>0.000000</td>\n",
       "      <td>0.000000</td>\n",
       "      <td>0.000000</td>\n",
       "      <td>2.246681</td>\n",
       "      <td>0.000000</td>\n",
       "      <td>0.000000</td>\n",
       "      <td>2.001199</td>\n",
       "    </tr>\n",
       "    <tr>\n",
       "      <th>1</th>\n",
       "      <td>0.265106</td>\n",
       "      <td>0.317552</td>\n",
       "      <td>1.555288</td>\n",
       "      <td>0.000000</td>\n",
       "      <td>2.473503</td>\n",
       "      <td>0.000000</td>\n",
       "      <td>0.000000</td>\n",
       "      <td>2.246681</td>\n",
       "      <td>0.000000</td>\n",
       "      <td>2.001199</td>\n",
       "      <td>0.000000</td>\n",
       "    </tr>\n",
       "    <tr>\n",
       "      <th>2</th>\n",
       "      <td>0.265106</td>\n",
       "      <td>-0.085764</td>\n",
       "      <td>1.555288</td>\n",
       "      <td>2.473503</td>\n",
       "      <td>0.000000</td>\n",
       "      <td>0.000000</td>\n",
       "      <td>2.333916</td>\n",
       "      <td>0.000000</td>\n",
       "      <td>0.000000</td>\n",
       "      <td>0.000000</td>\n",
       "      <td>2.001199</td>\n",
       "    </tr>\n",
       "    <tr>\n",
       "      <th>3</th>\n",
       "      <td>0.479584</td>\n",
       "      <td>0.785399</td>\n",
       "      <td>-0.917597</td>\n",
       "      <td>0.000000</td>\n",
       "      <td>2.473503</td>\n",
       "      <td>2.333916</td>\n",
       "      <td>0.000000</td>\n",
       "      <td>0.000000</td>\n",
       "      <td>0.000000</td>\n",
       "      <td>2.001199</td>\n",
       "      <td>0.000000</td>\n",
       "    </tr>\n",
       "    <tr>\n",
       "      <th>4</th>\n",
       "      <td>0.837049</td>\n",
       "      <td>0.430481</td>\n",
       "      <td>1.555288</td>\n",
       "      <td>2.473503</td>\n",
       "      <td>0.000000</td>\n",
       "      <td>0.000000</td>\n",
       "      <td>0.000000</td>\n",
       "      <td>2.246681</td>\n",
       "      <td>0.000000</td>\n",
       "      <td>0.000000</td>\n",
       "      <td>2.001199</td>\n",
       "    </tr>\n",
       "    <tr>\n",
       "      <th>...</th>\n",
       "      <td>...</td>\n",
       "      <td>...</td>\n",
       "      <td>...</td>\n",
       "      <td>...</td>\n",
       "      <td>...</td>\n",
       "      <td>...</td>\n",
       "      <td>...</td>\n",
       "      <td>...</td>\n",
       "      <td>...</td>\n",
       "      <td>...</td>\n",
       "      <td>...</td>\n",
       "    </tr>\n",
       "    <tr>\n",
       "      <th>1064</th>\n",
       "      <td>-0.735795</td>\n",
       "      <td>0.430481</td>\n",
       "      <td>0.730993</td>\n",
       "      <td>2.473503</td>\n",
       "      <td>0.000000</td>\n",
       "      <td>0.000000</td>\n",
       "      <td>2.333916</td>\n",
       "      <td>0.000000</td>\n",
       "      <td>0.000000</td>\n",
       "      <td>0.000000</td>\n",
       "      <td>2.001199</td>\n",
       "    </tr>\n",
       "    <tr>\n",
       "      <th>1065</th>\n",
       "      <td>-0.592809</td>\n",
       "      <td>1.430705</td>\n",
       "      <td>-0.093302</td>\n",
       "      <td>2.473503</td>\n",
       "      <td>0.000000</td>\n",
       "      <td>0.000000</td>\n",
       "      <td>0.000000</td>\n",
       "      <td>2.246681</td>\n",
       "      <td>0.000000</td>\n",
       "      <td>0.000000</td>\n",
       "      <td>2.001199</td>\n",
       "    </tr>\n",
       "    <tr>\n",
       "      <th>1066</th>\n",
       "      <td>0.479584</td>\n",
       "      <td>-0.279356</td>\n",
       "      <td>0.730993</td>\n",
       "      <td>2.473503</td>\n",
       "      <td>0.000000</td>\n",
       "      <td>0.000000</td>\n",
       "      <td>0.000000</td>\n",
       "      <td>0.000000</td>\n",
       "      <td>2.330863</td>\n",
       "      <td>2.001199</td>\n",
       "      <td>0.000000</td>\n",
       "    </tr>\n",
       "    <tr>\n",
       "      <th>1067</th>\n",
       "      <td>-0.878781</td>\n",
       "      <td>0.414348</td>\n",
       "      <td>0.730993</td>\n",
       "      <td>2.473503</td>\n",
       "      <td>0.000000</td>\n",
       "      <td>0.000000</td>\n",
       "      <td>2.333916</td>\n",
       "      <td>0.000000</td>\n",
       "      <td>0.000000</td>\n",
       "      <td>0.000000</td>\n",
       "      <td>2.001199</td>\n",
       "    </tr>\n",
       "    <tr>\n",
       "      <th>1068</th>\n",
       "      <td>-1.522218</td>\n",
       "      <td>1.237113</td>\n",
       "      <td>-0.917597</td>\n",
       "      <td>2.473503</td>\n",
       "      <td>0.000000</td>\n",
       "      <td>0.000000</td>\n",
       "      <td>0.000000</td>\n",
       "      <td>2.246681</td>\n",
       "      <td>0.000000</td>\n",
       "      <td>2.001199</td>\n",
       "      <td>0.000000</td>\n",
       "    </tr>\n",
       "  </tbody>\n",
       "</table>\n",
       "<p>1069 rows × 11 columns</p>\n",
       "</div>"
      ],
      "text/plain": [
       "            0         1         2         3         4         5         6   \\\n",
       "0     1.123021  1.237113 -0.917597  2.473503  0.000000  0.000000  0.000000   \n",
       "1     0.265106  0.317552  1.555288  0.000000  2.473503  0.000000  0.000000   \n",
       "2     0.265106 -0.085764  1.555288  2.473503  0.000000  0.000000  2.333916   \n",
       "3     0.479584  0.785399 -0.917597  0.000000  2.473503  2.333916  0.000000   \n",
       "4     0.837049  0.430481  1.555288  2.473503  0.000000  0.000000  0.000000   \n",
       "...        ...       ...       ...       ...       ...       ...       ...   \n",
       "1064 -0.735795  0.430481  0.730993  2.473503  0.000000  0.000000  2.333916   \n",
       "1065 -0.592809  1.430705 -0.093302  2.473503  0.000000  0.000000  0.000000   \n",
       "1066  0.479584 -0.279356  0.730993  2.473503  0.000000  0.000000  0.000000   \n",
       "1067 -0.878781  0.414348  0.730993  2.473503  0.000000  0.000000  2.333916   \n",
       "1068 -1.522218  1.237113 -0.917597  2.473503  0.000000  0.000000  0.000000   \n",
       "\n",
       "            7         8         9         10  \n",
       "0     2.246681  0.000000  0.000000  2.001199  \n",
       "1     2.246681  0.000000  2.001199  0.000000  \n",
       "2     0.000000  0.000000  0.000000  2.001199  \n",
       "3     0.000000  0.000000  2.001199  0.000000  \n",
       "4     2.246681  0.000000  0.000000  2.001199  \n",
       "...        ...       ...       ...       ...  \n",
       "1064  0.000000  0.000000  0.000000  2.001199  \n",
       "1065  2.246681  0.000000  0.000000  2.001199  \n",
       "1066  0.000000  2.330863  2.001199  0.000000  \n",
       "1067  0.000000  0.000000  0.000000  2.001199  \n",
       "1068  2.246681  0.000000  2.001199  0.000000  \n",
       "\n",
       "[1069 rows x 11 columns]"
      ]
     },
     "execution_count": 130,
     "metadata": {},
     "output_type": "execute_result"
    }
   ],
   "source": [
    "pd.DataFrame(a)"
   ]
  },
  {
   "cell_type": "code",
   "execution_count": 134,
   "metadata": {},
   "outputs": [],
   "source": [
    "test_df=pd.read_csv(r'C:\\Users\\somit\\Downloads\\project_ineuron\\insurence_premium_prediction\\artifacts\\data_ingestion\\test\\insurence.csv' ,index_col='Unnamed: 0')"
   ]
  },
  {
   "cell_type": "code",
   "execution_count": 136,
   "metadata": {},
   "outputs": [
    {
     "data": {
      "text/html": [
       "<div>\n",
       "<style scoped>\n",
       "    .dataframe tbody tr th:only-of-type {\n",
       "        vertical-align: middle;\n",
       "    }\n",
       "\n",
       "    .dataframe tbody tr th {\n",
       "        vertical-align: top;\n",
       "    }\n",
       "\n",
       "    .dataframe thead th {\n",
       "        text-align: right;\n",
       "    }\n",
       "</style>\n",
       "<table border=\"1\" class=\"dataframe\">\n",
       "  <thead>\n",
       "    <tr style=\"text-align: right;\">\n",
       "      <th></th>\n",
       "      <th>age</th>\n",
       "      <th>sex</th>\n",
       "      <th>bmi</th>\n",
       "      <th>children</th>\n",
       "      <th>smoker</th>\n",
       "      <th>region</th>\n",
       "    </tr>\n",
       "    <tr>\n",
       "      <th>Unnamed: 0</th>\n",
       "      <th></th>\n",
       "      <th></th>\n",
       "      <th></th>\n",
       "      <th></th>\n",
       "      <th></th>\n",
       "      <th></th>\n",
       "    </tr>\n",
       "  </thead>\n",
       "  <tbody>\n",
       "    <tr>\n",
       "      <th>269</th>\n",
       "      <td>19</td>\n",
       "      <td>male</td>\n",
       "      <td>27.8</td>\n",
       "      <td>0</td>\n",
       "      <td>no</td>\n",
       "      <td>northwest</td>\n",
       "    </tr>\n",
       "    <tr>\n",
       "      <th>897</th>\n",
       "      <td>30</td>\n",
       "      <td>male</td>\n",
       "      <td>23.0</td>\n",
       "      <td>2</td>\n",
       "      <td>yes</td>\n",
       "      <td>northwest</td>\n",
       "    </tr>\n",
       "    <tr>\n",
       "      <th>275</th>\n",
       "      <td>44</td>\n",
       "      <td>female</td>\n",
       "      <td>36.5</td>\n",
       "      <td>0</td>\n",
       "      <td>no</td>\n",
       "      <td>northeast</td>\n",
       "    </tr>\n",
       "    <tr>\n",
       "      <th>507</th>\n",
       "      <td>33</td>\n",
       "      <td>male</td>\n",
       "      <td>29.4</td>\n",
       "      <td>4</td>\n",
       "      <td>no</td>\n",
       "      <td>southwest</td>\n",
       "    </tr>\n",
       "    <tr>\n",
       "      <th>1073</th>\n",
       "      <td>35</td>\n",
       "      <td>female</td>\n",
       "      <td>28.0</td>\n",
       "      <td>0</td>\n",
       "      <td>yes</td>\n",
       "      <td>northwest</td>\n",
       "    </tr>\n",
       "    <tr>\n",
       "      <th>...</th>\n",
       "      <td>...</td>\n",
       "      <td>...</td>\n",
       "      <td>...</td>\n",
       "      <td>...</td>\n",
       "      <td>...</td>\n",
       "      <td>...</td>\n",
       "    </tr>\n",
       "    <tr>\n",
       "      <th>604</th>\n",
       "      <td>19</td>\n",
       "      <td>female</td>\n",
       "      <td>24.6</td>\n",
       "      <td>1</td>\n",
       "      <td>no</td>\n",
       "      <td>northwest</td>\n",
       "    </tr>\n",
       "    <tr>\n",
       "      <th>1018</th>\n",
       "      <td>27</td>\n",
       "      <td>female</td>\n",
       "      <td>31.3</td>\n",
       "      <td>1</td>\n",
       "      <td>no</td>\n",
       "      <td>northwest</td>\n",
       "    </tr>\n",
       "    <tr>\n",
       "      <th>1179</th>\n",
       "      <td>19</td>\n",
       "      <td>male</td>\n",
       "      <td>34.9</td>\n",
       "      <td>0</td>\n",
       "      <td>yes</td>\n",
       "      <td>southwest</td>\n",
       "    </tr>\n",
       "    <tr>\n",
       "      <th>1095</th>\n",
       "      <td>64</td>\n",
       "      <td>female</td>\n",
       "      <td>39.3</td>\n",
       "      <td>0</td>\n",
       "      <td>no</td>\n",
       "      <td>northeast</td>\n",
       "    </tr>\n",
       "    <tr>\n",
       "      <th>201</th>\n",
       "      <td>43</td>\n",
       "      <td>male</td>\n",
       "      <td>27.4</td>\n",
       "      <td>3</td>\n",
       "      <td>no</td>\n",
       "      <td>northeast</td>\n",
       "    </tr>\n",
       "  </tbody>\n",
       "</table>\n",
       "<p>268 rows × 6 columns</p>\n",
       "</div>"
      ],
      "text/plain": [
       "            age     sex   bmi  children smoker     region\n",
       "Unnamed: 0                                               \n",
       "269          19    male  27.8         0     no  northwest\n",
       "897          30    male  23.0         2    yes  northwest\n",
       "275          44  female  36.5         0     no  northeast\n",
       "507          33    male  29.4         4     no  southwest\n",
       "1073         35  female  28.0         0    yes  northwest\n",
       "...         ...     ...   ...       ...    ...        ...\n",
       "604          19  female  24.6         1     no  northwest\n",
       "1018         27  female  31.3         1     no  northwest\n",
       "1179         19    male  34.9         0    yes  southwest\n",
       "1095         64  female  39.3         0     no  northeast\n",
       "201          43    male  27.4         3     no  northeast\n",
       "\n",
       "[268 rows x 6 columns]"
      ]
     },
     "execution_count": 136,
     "metadata": {},
     "output_type": "execute_result"
    }
   ],
   "source": [
    "test_df.drop(columns=\"expenses\" ,axis=1)"
   ]
  },
  {
   "cell_type": "code",
   "execution_count": 138,
   "metadata": {},
   "outputs": [],
   "source": [
    "b=preprocessing.transform(test_df)"
   ]
  },
  {
   "cell_type": "code",
   "execution_count": 139,
   "metadata": {},
   "outputs": [
    {
     "data": {
      "text/html": [
       "<div>\n",
       "<style scoped>\n",
       "    .dataframe tbody tr th:only-of-type {\n",
       "        vertical-align: middle;\n",
       "    }\n",
       "\n",
       "    .dataframe tbody tr th {\n",
       "        vertical-align: top;\n",
       "    }\n",
       "\n",
       "    .dataframe thead th {\n",
       "        text-align: right;\n",
       "    }\n",
       "</style>\n",
       "<table border=\"1\" class=\"dataframe\">\n",
       "  <thead>\n",
       "    <tr style=\"text-align: right;\">\n",
       "      <th></th>\n",
       "      <th>0</th>\n",
       "      <th>1</th>\n",
       "      <th>2</th>\n",
       "      <th>3</th>\n",
       "      <th>4</th>\n",
       "      <th>5</th>\n",
       "      <th>6</th>\n",
       "      <th>7</th>\n",
       "      <th>8</th>\n",
       "      <th>9</th>\n",
       "      <th>10</th>\n",
       "    </tr>\n",
       "  </thead>\n",
       "  <tbody>\n",
       "    <tr>\n",
       "      <th>0</th>\n",
       "      <td>-1.450725</td>\n",
       "      <td>-0.456815</td>\n",
       "      <td>-0.917597</td>\n",
       "      <td>2.473503</td>\n",
       "      <td>0.000000</td>\n",
       "      <td>0.000000</td>\n",
       "      <td>2.333916</td>\n",
       "      <td>0.0</td>\n",
       "      <td>0.000000</td>\n",
       "      <td>0.000000</td>\n",
       "      <td>2.001199</td>\n",
       "    </tr>\n",
       "    <tr>\n",
       "      <th>1</th>\n",
       "      <td>-0.664302</td>\n",
       "      <td>-1.231182</td>\n",
       "      <td>0.730993</td>\n",
       "      <td>0.000000</td>\n",
       "      <td>2.473503</td>\n",
       "      <td>0.000000</td>\n",
       "      <td>2.333916</td>\n",
       "      <td>0.0</td>\n",
       "      <td>0.000000</td>\n",
       "      <td>0.000000</td>\n",
       "      <td>2.001199</td>\n",
       "    </tr>\n",
       "    <tr>\n",
       "      <th>2</th>\n",
       "      <td>0.336599</td>\n",
       "      <td>0.946725</td>\n",
       "      <td>-0.917597</td>\n",
       "      <td>2.473503</td>\n",
       "      <td>0.000000</td>\n",
       "      <td>2.333916</td>\n",
       "      <td>0.000000</td>\n",
       "      <td>0.0</td>\n",
       "      <td>0.000000</td>\n",
       "      <td>2.001199</td>\n",
       "      <td>0.000000</td>\n",
       "    </tr>\n",
       "    <tr>\n",
       "      <th>3</th>\n",
       "      <td>-0.449824</td>\n",
       "      <td>-0.198693</td>\n",
       "      <td>2.379582</td>\n",
       "      <td>2.473503</td>\n",
       "      <td>0.000000</td>\n",
       "      <td>0.000000</td>\n",
       "      <td>0.000000</td>\n",
       "      <td>0.0</td>\n",
       "      <td>2.330863</td>\n",
       "      <td>0.000000</td>\n",
       "      <td>2.001199</td>\n",
       "    </tr>\n",
       "    <tr>\n",
       "      <th>4</th>\n",
       "      <td>-0.306838</td>\n",
       "      <td>-0.424550</td>\n",
       "      <td>-0.917597</td>\n",
       "      <td>0.000000</td>\n",
       "      <td>2.473503</td>\n",
       "      <td>0.000000</td>\n",
       "      <td>2.333916</td>\n",
       "      <td>0.0</td>\n",
       "      <td>0.000000</td>\n",
       "      <td>2.001199</td>\n",
       "      <td>0.000000</td>\n",
       "    </tr>\n",
       "    <tr>\n",
       "      <th>...</th>\n",
       "      <td>...</td>\n",
       "      <td>...</td>\n",
       "      <td>...</td>\n",
       "      <td>...</td>\n",
       "      <td>...</td>\n",
       "      <td>...</td>\n",
       "      <td>...</td>\n",
       "      <td>...</td>\n",
       "      <td>...</td>\n",
       "      <td>...</td>\n",
       "      <td>...</td>\n",
       "    </tr>\n",
       "    <tr>\n",
       "      <th>263</th>\n",
       "      <td>-1.450725</td>\n",
       "      <td>-0.973060</td>\n",
       "      <td>-0.093302</td>\n",
       "      <td>2.473503</td>\n",
       "      <td>0.000000</td>\n",
       "      <td>0.000000</td>\n",
       "      <td>2.333916</td>\n",
       "      <td>0.0</td>\n",
       "      <td>0.000000</td>\n",
       "      <td>2.001199</td>\n",
       "      <td>0.000000</td>\n",
       "    </tr>\n",
       "    <tr>\n",
       "      <th>264</th>\n",
       "      <td>-0.878781</td>\n",
       "      <td>0.107828</td>\n",
       "      <td>-0.093302</td>\n",
       "      <td>2.473503</td>\n",
       "      <td>0.000000</td>\n",
       "      <td>0.000000</td>\n",
       "      <td>2.333916</td>\n",
       "      <td>0.0</td>\n",
       "      <td>0.000000</td>\n",
       "      <td>2.001199</td>\n",
       "      <td>0.000000</td>\n",
       "    </tr>\n",
       "    <tr>\n",
       "      <th>265</th>\n",
       "      <td>-1.450725</td>\n",
       "      <td>0.688603</td>\n",
       "      <td>-0.917597</td>\n",
       "      <td>0.000000</td>\n",
       "      <td>2.473503</td>\n",
       "      <td>0.000000</td>\n",
       "      <td>0.000000</td>\n",
       "      <td>0.0</td>\n",
       "      <td>2.330863</td>\n",
       "      <td>0.000000</td>\n",
       "      <td>2.001199</td>\n",
       "    </tr>\n",
       "    <tr>\n",
       "      <th>266</th>\n",
       "      <td>1.766457</td>\n",
       "      <td>1.398439</td>\n",
       "      <td>-0.917597</td>\n",
       "      <td>2.473503</td>\n",
       "      <td>0.000000</td>\n",
       "      <td>2.333916</td>\n",
       "      <td>0.000000</td>\n",
       "      <td>0.0</td>\n",
       "      <td>0.000000</td>\n",
       "      <td>2.001199</td>\n",
       "      <td>0.000000</td>\n",
       "    </tr>\n",
       "    <tr>\n",
       "      <th>267</th>\n",
       "      <td>0.265106</td>\n",
       "      <td>-0.521346</td>\n",
       "      <td>1.555288</td>\n",
       "      <td>2.473503</td>\n",
       "      <td>0.000000</td>\n",
       "      <td>2.333916</td>\n",
       "      <td>0.000000</td>\n",
       "      <td>0.0</td>\n",
       "      <td>0.000000</td>\n",
       "      <td>0.000000</td>\n",
       "      <td>2.001199</td>\n",
       "    </tr>\n",
       "  </tbody>\n",
       "</table>\n",
       "<p>268 rows × 11 columns</p>\n",
       "</div>"
      ],
      "text/plain": [
       "           0         1         2         3         4         5         6   \\\n",
       "0   -1.450725 -0.456815 -0.917597  2.473503  0.000000  0.000000  2.333916   \n",
       "1   -0.664302 -1.231182  0.730993  0.000000  2.473503  0.000000  2.333916   \n",
       "2    0.336599  0.946725 -0.917597  2.473503  0.000000  2.333916  0.000000   \n",
       "3   -0.449824 -0.198693  2.379582  2.473503  0.000000  0.000000  0.000000   \n",
       "4   -0.306838 -0.424550 -0.917597  0.000000  2.473503  0.000000  2.333916   \n",
       "..        ...       ...       ...       ...       ...       ...       ...   \n",
       "263 -1.450725 -0.973060 -0.093302  2.473503  0.000000  0.000000  2.333916   \n",
       "264 -0.878781  0.107828 -0.093302  2.473503  0.000000  0.000000  2.333916   \n",
       "265 -1.450725  0.688603 -0.917597  0.000000  2.473503  0.000000  0.000000   \n",
       "266  1.766457  1.398439 -0.917597  2.473503  0.000000  2.333916  0.000000   \n",
       "267  0.265106 -0.521346  1.555288  2.473503  0.000000  2.333916  0.000000   \n",
       "\n",
       "      7         8         9         10  \n",
       "0    0.0  0.000000  0.000000  2.001199  \n",
       "1    0.0  0.000000  0.000000  2.001199  \n",
       "2    0.0  0.000000  2.001199  0.000000  \n",
       "3    0.0  2.330863  0.000000  2.001199  \n",
       "4    0.0  0.000000  2.001199  0.000000  \n",
       "..   ...       ...       ...       ...  \n",
       "263  0.0  0.000000  2.001199  0.000000  \n",
       "264  0.0  0.000000  2.001199  0.000000  \n",
       "265  0.0  2.330863  0.000000  2.001199  \n",
       "266  0.0  0.000000  2.001199  0.000000  \n",
       "267  0.0  0.000000  0.000000  2.001199  \n",
       "\n",
       "[268 rows x 11 columns]"
      ]
     },
     "execution_count": 139,
     "metadata": {},
     "output_type": "execute_result"
    }
   ],
   "source": [
    "pd.DataFrame(b"
   ]
  },
  {
   "cell_type": "code",
   "execution_count": 51,
   "metadata": {},
   "outputs": [
    {
     "name": "stdout",
     "output_type": "stream",
     "text": [
      "[2023-03-18 09:14:41,079: INFO: common]: yaml file: config\\config.yaml loaded successfully\n",
      "[2023-03-18 09:14:41,081: INFO: common]: yaml file: params.yaml loaded successfully\n",
      "[2023-03-18 09:14:41,083: INFO: common]: created directory at: artifacts\n"
     ]
    },
    {
     "data": {
      "text/plain": [
       "WindowsPath('config/schema.yaml')"
      ]
     },
     "execution_count": 51,
     "metadata": {},
     "output_type": "execute_result"
    }
   ],
   "source": [
    "ConfigurationManager().get_data_validation_config().schema_file_path"
   ]
  },
  {
   "cell_type": "code",
   "execution_count": 141,
   "metadata": {},
   "outputs": [],
   "source": [
    "with open('preprocessing.pkl','wb') as pre_file:\n",
    "\n",
    "    dill.dump(preprocessing ,pre_file)"
   ]
  },
  {
   "cell_type": "code",
   "execution_count": 19,
   "metadata": {},
   "outputs": [
    {
     "data": {
      "text/plain": [
       "'categorical_columns'"
      ]
     },
     "execution_count": 19,
     "metadata": {},
     "output_type": "execute_result"
    }
   ],
   "source": [
    "CATEGORICAL_COLUMN_KEY"
   ]
  },
  {
   "cell_type": "code",
   "execution_count": null,
   "metadata": {},
   "outputs": [],
   "source": [
    "df_test=DataTransformation().load_data(file_path=test_file_path,schema_file_path=schema_file_path)\n",
    "df_test.head()\n",
    "target_column=schema[TARGET_COLUMN_KEY]\n",
    "\n",
    "df.drop(columns=target_column,axis=1)\n",
    "\n",
    "target_feature_train_df=df[target_column]\n",
    "input_feature_train_df=df.drop(columns=target_column , axis=1)\n"
   ]
  },
  {
   "cell_type": "code",
   "execution_count": 6,
   "metadata": {},
   "outputs": [
    {
     "ename": "ZipImportError",
     "evalue": "bad local file header: 'c:\\\\Users\\\\somit\\\\Downloads\\\\project_ineuron\\\\insurence_premium_prediction\\\\env\\\\lib\\\\site-packages\\\\insurencepremium-0.0.2-py3.8.egg'",
     "output_type": "error",
     "traceback": [
      "\u001b[1;31m---------------------------------------------------------------------------\u001b[0m",
      "\u001b[1;31mZipImportError\u001b[0m                            Traceback (most recent call last)",
      "Cell \u001b[1;32mIn[6], line 1\u001b[0m\n\u001b[1;32m----> 1\u001b[0m \u001b[39mfrom\u001b[39;00m \u001b[39minsurence_premium\u001b[39;00m\u001b[39m.\u001b[39;00m\u001b[39mconfig\u001b[39;00m \u001b[39mimport\u001b[39;00m ConfigurationManager\n",
      "File \u001b[1;32m<frozen zipimport>:241\u001b[0m, in \u001b[0;36mload_module\u001b[1;34m(self, fullname)\u001b[0m\n",
      "File \u001b[1;32m<frozen zipimport>:709\u001b[0m, in \u001b[0;36m_get_module_code\u001b[1;34m(self, fullname)\u001b[0m\n",
      "File \u001b[1;32m<frozen zipimport>:548\u001b[0m, in \u001b[0;36m_get_data\u001b[1;34m(archive, toc_entry)\u001b[0m\n",
      "\u001b[1;31mZipImportError\u001b[0m: bad local file header: 'c:\\\\Users\\\\somit\\\\Downloads\\\\project_ineuron\\\\insurence_premium_prediction\\\\env\\\\lib\\\\site-packages\\\\insurencepremium-0.0.2-py3.8.egg'"
     ]
    }
   ],
   "source": [
    "from insurence_premium.config import ConfigurationManager"
   ]
  },
  {
   "cell_type": "code",
   "execution_count": 6,
   "metadata": {},
   "outputs": [],
   "source": [
    "from insurence_premium.config import ConfigurationManager "
   ]
  },
  {
   "cell_type": "code",
   "execution_count": null,
   "metadata": {},
   "outputs": [],
   "source": []
  },
  {
   "cell_type": "code",
   "execution_count": null,
   "metadata": {},
   "outputs": [],
   "source": []
  },
  {
   "cell_type": "code",
   "execution_count": null,
   "metadata": {},
   "outputs": [],
   "source": []
  }
 ],
 "metadata": {
  "kernelspec": {
   "display_name": "Python 3",
   "language": "python",
   "name": "python3"
  },
  "language_info": {
   "codemirror_mode": {
    "name": "ipython",
    "version": 3
   },
   "file_extension": ".py",
   "mimetype": "text/x-python",
   "name": "python",
   "nbconvert_exporter": "python",
   "pygments_lexer": "ipython3",
   "version": "3.8.16"
  },
  "orig_nbformat": 4
 },
 "nbformat": 4,
 "nbformat_minor": 2
}
