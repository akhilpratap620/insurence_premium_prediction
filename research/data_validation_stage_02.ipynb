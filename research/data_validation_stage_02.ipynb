{
 "cells": [
  {
   "cell_type": "code",
   "execution_count": 65,
   "metadata": {},
   "outputs": [
    {
     "data": {
      "text/plain": [
       "'C:\\\\Users\\\\somit\\\\Downloads\\\\project_ineuron\\\\insurence_premium_prediction'"
      ]
     },
     "execution_count": 65,
     "metadata": {},
     "output_type": "execute_result"
    }
   ],
   "source": [
    "from pathlib import Path\n",
    "from dataclasses import dataclass\n",
    "import os\n",
    "import pandas as pd\n",
    "\n",
    "os.getcwd()\n",
    "os.chdir(\"C:\\\\Users\\somit\\Downloads\\project_ineuron\\insurence_premium_prediction\")\n",
    "os.getcwd()"
   ]
  },
  {
   "cell_type": "code",
   "execution_count": null,
   "metadata": {},
   "outputs": [],
   "source": []
  },
  {
   "cell_type": "code",
   "execution_count": null,
   "metadata": {},
   "outputs": [],
   "source": []
  },
  {
   "cell_type": "code",
   "execution_count": 66,
   "metadata": {},
   "outputs": [],
   "source": [
    "@dataclass(frozen=True)\n",
    "class DataValidationConfig:\n",
    "    root_dir: Path\n",
    "    schema_file_path:Path\n",
    "    report_file_path: Path\n",
    "    report_page_file_path: Path\n",
    "    \n",
    "    "
   ]
  },
  {
   "cell_type": "code",
   "execution_count": 75,
   "metadata": {},
   "outputs": [],
   "source": [
    "from insurence_premium.constant import *\n",
    "from insurence_premium.util.common import read_yaml ,create_directories "
   ]
  },
  {
   "cell_type": "code",
   "execution_count": 1,
   "metadata": {},
   "outputs": [
    {
     "ename": "ImportError",
     "evalue": "cannot import name 'SCHEMA_FILE_PATH' from 'insurence_premium.constant' (c:\\Users\\somit\\Downloads\\project_ineuron\\insurence_premium_prediction\\env\\lib\\site-packages\\insurencepremium-0.0.1-py3.8.egg\\insurence_premium\\constant\\__init__.py)",
     "output_type": "error",
     "traceback": [
      "\u001b[1;31m---------------------------------------------------------------------------\u001b[0m",
      "\u001b[1;31mImportError\u001b[0m                               Traceback (most recent call last)",
      "Cell \u001b[1;32mIn[1], line 1\u001b[0m\n\u001b[1;32m----> 1\u001b[0m \u001b[39mfrom\u001b[39;00m \u001b[39minsurence_premium\u001b[39;00m\u001b[39m.\u001b[39;00m\u001b[39mconstant\u001b[39;00m \u001b[39mimport\u001b[39;00m SCHEMA_FILE_PATH\n",
      "\u001b[1;31mImportError\u001b[0m: cannot import name 'SCHEMA_FILE_PATH' from 'insurence_premium.constant' (c:\\Users\\somit\\Downloads\\project_ineuron\\insurence_premium_prediction\\env\\lib\\site-packages\\insurencepremium-0.0.1-py3.8.egg\\insurence_premium\\constant\\__init__.py)"
     ]
    }
   ],
   "source": [
    "from insurence_premium.constant import SCHEMA_FILE_PATH"
   ]
  },
  {
   "cell_type": "code",
   "execution_count": null,
   "metadata": {},
   "outputs": [],
   "source": [
    "class ConfigurationManager:\n",
    "    def __init__(\n",
    "        self ,\n",
    "        config_filepath = CONFIG_FILE_PATH,\n",
    "        params_filepath = PARAMS_FILE_PATH):\n",
    "\n",
    "        self.config =read_yaml(config_filepath)\n",
    "        self.params =read_yaml(params_filepath)\n",
    "\n",
    "        create_directories([self.config.artifacts_root])\n",
    "    \n",
    "    \n",
    "\n",
    "    def get_validation_config(self)->DataValidationConfig:\n",
    "        validation_config =self.config.data_validation\n",
    "\n",
    "        data_validation_config =DataValidationConfig(\n",
    "            root_dir=Path(validation_config.root_dir),\n",
    "            schema_file_path= SCHEMA_FILE_PATH ,\n",
    "            report_file_path=Path(validation_config.report_file_path),\n",
    "            report_page_file_path=Path(validation_config.report_page_file_path)\n",
    "            \n",
    "        )\n",
    "        return data_validation_config\n",
    "\n"
   ]
  },
  {
   "cell_type": "code",
   "execution_count": 74,
   "metadata": {},
   "outputs": [
    {
     "name": "stdout",
     "output_type": "stream",
     "text": [
      "[2023-03-05 01:11:54,219: INFO: common]: yaml file: config\\config.yaml loaded successfully\n",
      "[2023-03-05 01:11:54,225: INFO: common]: yaml file: params.yaml loaded successfully\n",
      "[2023-03-05 01:11:54,229: INFO: common]: created directory at: artifacts\n"
     ]
    },
    {
     "ename": "NameError",
     "evalue": "name 'SCHEMA_FILE_PATH' is not defined",
     "output_type": "error",
     "traceback": [
      "\u001b[1;31m---------------------------------------------------------------------------\u001b[0m",
      "\u001b[1;31mNameError\u001b[0m                                 Traceback (most recent call last)",
      "Cell \u001b[1;32mIn[74], line 1\u001b[0m\n\u001b[1;32m----> 1\u001b[0m con\u001b[39m=\u001b[39m ConfigurationManager()\u001b[39m.\u001b[39;49mget_validation_config()\n",
      "Cell \u001b[1;32mIn[73], line 19\u001b[0m, in \u001b[0;36mConfigurationManager.get_validation_config\u001b[1;34m(self)\u001b[0m\n\u001b[0;32m     14\u001b[0m \u001b[39mdef\u001b[39;00m \u001b[39mget_validation_config\u001b[39m(\u001b[39mself\u001b[39m)\u001b[39m-\u001b[39m\u001b[39m>\u001b[39mDataValidationConfig:\n\u001b[0;32m     15\u001b[0m     validation_config \u001b[39m=\u001b[39m\u001b[39mself\u001b[39m\u001b[39m.\u001b[39mconfig\u001b[39m.\u001b[39mdata_validation\n\u001b[0;32m     17\u001b[0m     data_validation_config \u001b[39m=\u001b[39mDataValidationConfig(\n\u001b[0;32m     18\u001b[0m         root_dir\u001b[39m=\u001b[39mPath(validation_config\u001b[39m.\u001b[39mroot_dir),\n\u001b[1;32m---> 19\u001b[0m         schema_file_path\u001b[39m=\u001b[39m SCHEMA_FILE_PATH ,\n\u001b[0;32m     20\u001b[0m         report_file_path\u001b[39m=\u001b[39mPath(validation_config\u001b[39m.\u001b[39mreport_file_path),\n\u001b[0;32m     21\u001b[0m         report_page_file_path\u001b[39m=\u001b[39mPath(validation_config\u001b[39m.\u001b[39mreport_page_file_path)\n\u001b[0;32m     22\u001b[0m         \n\u001b[0;32m     23\u001b[0m     )\n\u001b[0;32m     24\u001b[0m     \u001b[39mreturn\u001b[39;00m data_validation_config\n",
      "\u001b[1;31mNameError\u001b[0m: name 'SCHEMA_FILE_PATH' is not defined"
     ]
    }
   ],
   "source": [
    "con= ConfigurationManager().get_validation_config()"
   ]
  },
  {
   "cell_type": "code",
   "execution_count": 6,
   "metadata": {},
   "outputs": [
    {
     "data": {
      "text/plain": [
       "DataValidationConfig(root_dir=WindowsPath('artifacts/data_validation'), report_file_path=WindowsPath('artifact/data_validation/report.json'), report_page_file_path=WindowsPath('artifact/data_validation/report.html'))"
      ]
     },
     "execution_count": 6,
     "metadata": {},
     "output_type": "execute_result"
    }
   ],
   "source": [
    "con.get_validation_config()"
   ]
  },
  {
   "cell_type": "code",
   "execution_count": null,
   "metadata": {},
   "outputs": [],
   "source": [
    "class DataValidation:\n",
    "    def __init__(self ,config:ConfigurationManager):\n",
    "        self.config =ConfigurationManager()\n",
    "        self.data_ingestion_config =ConfigurationManager().get_data_ingestion_config()\n",
    "        self.data_validation_config =ConfigurationManager().get_validation_config()\n",
    "\n",
    "    def get_train_test_data(self):\n",
    "        try:\n",
    "            train_file_path=self.data_ingestion_config.ingested_train_dir\n",
    "            test_file_path=self.data_ingestion_config.ingested_test_dir\n",
    "            train_df=pd.read_csv(train_file_path)\n",
    "            test_df=pd.read_csv(test_file_path)\n",
    "\n",
    "            return train_df ,test_df\n",
    "            \n",
    "        except Exception as e:\n",
    "            raise e    \n",
    "\n",
    "    def is_train_test_file_exist(self):\n",
    "        try:\n",
    "            is_train_file_exist=False\n",
    "            is_test_file_exist=False\n",
    "\n",
    "            train_file_path=self.data_ingestion_config.ingested_train_dir\n",
    "            test_file_path=self.data_ingestion_config.ingested_test_dir\n",
    "\n",
    "            is_train_file_exist=os.Path.exists(train_file_path)\n",
    "            is_test_file_exists=os.Path.exists(test_file_path)\n",
    "\n",
    "            return is_train_file_exist and is_test_file_exist\n",
    "\n",
    "            if not (is_train_file_exist and is_train_file_exist):\n",
    "                raise Exception(f\"train or test file missing\")\n",
    "            logger.info(f\"train_file: {train_file_path} ,test_file: {test_file_path}\") \n",
    "\n",
    "\n",
    "        except Exception as e:\n",
    "            raise e\n",
    "\n",
    "    def validate_schema(self):\n",
    "        try:\n",
    "            train_file_path =self.data_ingestion_config.train_file_path\n",
    "            \n",
    "            pd.read_csv(train_file_path)\n",
    "            \n",
    "            data_type=True\n",
    "            if data_type:\n",
    "\n",
    "                for i in df.columns:\n",
    "                    df[i].dtypes==schema[i]\n",
    "                    logger.info(f\"data column: {i} is matching with schema data set\")\n",
    "            else:\n",
    "                logger.info(f\"datatypes are not maching column:{i} with schema data\")        \n",
    "        except Exception as e:\n",
    "            raise e        \n",
    "\n",
    "    def get_and_save_data_drift_report(self):\n",
    "        try:\n",
    "            profile =Profile(sections=[DataDriftProfileSection()])\n",
    "            train_df,test_df =self.get_train_and_test_df()\n",
    "            profile.calculate(train_df,test_df)\n",
    "            report=json.loads(profile.json())\n",
    "            report_file_path = self.data_validation_config.report_file_path\n",
    "            report_dir = os.path.dirname(report_file_path)\n",
    "            os.makedirs(report_dir,exist_ok=True)    \n",
    "\n",
    "            write_json(report_file_path,report)\n",
    "            return report\n",
    "        except Exception as e:\n",
    "            raise e    \n",
    "\n",
    "    def save_data_drift_report_page(self):\n",
    "        try:\n",
    "            dashboard =Dashboard(tabs=[DataDriftTab()])\n",
    "            train_df,test_df =self.get_train_and_test_df()\n",
    "            dashboard.calculate(train_df,test_df)\n",
    "            report_page_file_path=self.data_validation_config.report_page_file_path\n",
    "            report_page_dir =os.path.dirname(report_page_file_path)\n",
    "            os.makedirs(report_page_dir , exist_ok=True)\n",
    "\n",
    "            dashboard.save(report_page_file_path)\n",
    "            \n",
    "        except Exception as e:\n",
    "            raise e        \n",
    "\n",
    "    def is_data_drift_found(self):\n",
    "        try:\n",
    "            report = self.get_and_save_data_drift_report()\n",
    "            self.save_data_drift_report_page()\n",
    "            return True\n",
    "        except Exception as e:\n",
    "            raise e              "
   ]
  },
  {
   "cell_type": "code",
   "execution_count": 16,
   "metadata": {},
   "outputs": [],
   "source": [
    "df=pd.read_csv(\"C:\\\\Users\\\\somit\\\\Downloads\\\\project_ineuron\\\\insurence_premium_prediction\\\\artifacts\\data_ingestion\\\\train\\\\insurence.csv\",index_col='Unnamed: 0')"
   ]
  },
  {
   "cell_type": "code",
   "execution_count": 17,
   "metadata": {},
   "outputs": [
    {
     "data": {
      "text/plain": [
       "Index(['age', 'sex', 'bmi', 'children', 'smoker', 'region', 'expenses'], dtype='object')"
      ]
     },
     "execution_count": 17,
     "metadata": {},
     "output_type": "execute_result"
    }
   ],
   "source": [
    "df.columns"
   ]
  },
  {
   "cell_type": "code",
   "execution_count": 24,
   "metadata": {},
   "outputs": [
    {
     "data": {
      "text/plain": [
       "age           int64\n",
       "sex          object\n",
       "bmi         float64\n",
       "children      int64\n",
       "smoker       object\n",
       "region       object\n",
       "expenses    float64\n",
       "dtype: object"
      ]
     },
     "execution_count": 24,
     "metadata": {},
     "output_type": "execute_result"
    }
   ],
   "source": [
    "df.dtypes"
   ]
  },
  {
   "cell_type": "code",
   "execution_count": 30,
   "metadata": {},
   "outputs": [
    {
     "data": {
      "text/plain": [
       "(Index(['age', 'sex', 'bmi', 'children', 'smoker', 'region', 'expenses'], dtype='object'),\n",
       " array([dtype('int64'), dtype('O'), dtype('float64'), dtype('int64'),\n",
       "        dtype('O'), dtype('O'), dtype('float64')], dtype=object))"
      ]
     },
     "execution_count": 30,
     "metadata": {},
     "output_type": "execute_result"
    }
   ],
   "source": [
    "df.dtypes.index  , df.dtypes.values"
   ]
  },
  {
   "cell_type": "code",
   "execution_count": 31,
   "metadata": {},
   "outputs": [],
   "source": [
    "data_type =list(map(lambda x:str(x).replace(\"dtype('\" ,\"\").replace(\"')\" , \"\") ,df.dtypes.values))"
   ]
  },
  {
   "cell_type": "code",
   "execution_count": 39,
   "metadata": {},
   "outputs": [],
   "source": [
    "columns=df.columns"
   ]
  },
  {
   "cell_type": "code",
   "execution_count": 37,
   "metadata": {},
   "outputs": [],
   "source": [
    "data_type=list(map(lambda x:str(x).replace(\"dtype('\" ,\"\").replace(\"')\" , \"\") ,df.dtypes.values))"
   ]
  },
  {
   "cell_type": "code",
   "execution_count": 41,
   "metadata": {},
   "outputs": [
    {
     "data": {
      "text/plain": [
       "{'age': 'int64',\n",
       " 'sex': 'object',\n",
       " 'bmi': 'float64',\n",
       " 'children': 'int64',\n",
       " 'smoker': 'object',\n",
       " 'region': 'object',\n",
       " 'expenses': 'float64'}"
      ]
     },
     "execution_count": 41,
     "metadata": {},
     "output_type": "execute_result"
    }
   ],
   "source": [
    "dict(zip(columns ,data_type))"
   ]
  },
  {
   "cell_type": "code",
   "execution_count": 42,
   "metadata": {},
   "outputs": [
    {
     "name": "stdout",
     "output_type": "stream",
     "text": [
      "[2023-03-04 22:55:07,237: INFO: common]: yaml file: config\\schema.yaml loaded successfully\n"
     ]
    }
   ],
   "source": [
    "schema=read_yaml(Path(\"config/schema.yaml\"))"
   ]
  },
  {
   "cell_type": "code",
   "execution_count": 51,
   "metadata": {},
   "outputs": [
    {
     "data": {
      "text/plain": [
       "True"
      ]
     },
     "execution_count": 51,
     "metadata": {},
     "output_type": "execute_result"
    }
   ],
   "source": [
    "schema['age']==df['age'].dtypes"
   ]
  },
  {
   "cell_type": "code",
   "execution_count": 56,
   "metadata": {},
   "outputs": [],
   "source": [
    "from insurence_premium import logger"
   ]
  },
  {
   "cell_type": "code",
   "execution_count": 52,
   "metadata": {},
   "outputs": [],
   "source": [
    "for i in df.columns:\n",
    "    df[i].dtypes==schema[i]\n",
    "        "
   ]
  },
  {
   "cell_type": "code",
   "execution_count": 59,
   "metadata": {},
   "outputs": [],
   "source": [
    "def validate_schema(df):\n",
    "    data_type=True\n",
    "    if data_type:\n",
    "\n",
    "        for i in df.columns:\n",
    "            df[i].dtypes==schema[i]\n",
    "            logger.info(f\"data column: {i} is matching with schema data set\")\n",
    "    else:\n",
    "        logger.info(\"datatypes are not maching with schema data\")        \n",
    "        \n"
   ]
  },
  {
   "cell_type": "code",
   "execution_count": 60,
   "metadata": {},
   "outputs": [
    {
     "name": "stdout",
     "output_type": "stream",
     "text": [
      "[2023-03-04 23:09:58,446: INFO: 2573481559]: data column: age is matching with schema data set\n",
      "[2023-03-04 23:09:58,448: INFO: 2573481559]: data column: sex is matching with schema data set\n",
      "[2023-03-04 23:09:58,449: INFO: 2573481559]: data column: bmi is matching with schema data set\n",
      "[2023-03-04 23:09:58,451: INFO: 2573481559]: data column: children is matching with schema data set\n",
      "[2023-03-04 23:09:58,453: INFO: 2573481559]: data column: smoker is matching with schema data set\n",
      "[2023-03-04 23:09:58,457: INFO: 2573481559]: data column: region is matching with schema data set\n",
      "[2023-03-04 23:09:58,458: INFO: 2573481559]: data column: expenses is matching with schema data set\n"
     ]
    }
   ],
   "source": [
    "validate_schema(df=df)"
   ]
  },
  {
   "cell_type": "code",
   "execution_count": 62,
   "metadata": {},
   "outputs": [
    {
     "name": "stderr",
     "output_type": "stream",
     "text": [
      "c:\\Users\\somit\\Downloads\\project_ineuron\\insurence_premium_prediction\\env\\lib\\site-packages\\evidently\\analyzers\\__init__.py:3: UserWarning: analyzers are deprecated, use metrics instead\n",
      "  warnings.warn(\"analyzers are deprecated, use metrics instead\")\n",
      "c:\\Users\\somit\\Downloads\\project_ineuron\\insurence_premium_prediction\\env\\lib\\site-packages\\evidently\\model_profile\\__init__.py:8: UserWarning: model profiles are deprecated, use metrics instead\n",
      "  warnings.warn(\"model profiles are deprecated, use metrics instead\")\n",
      "c:\\Users\\somit\\Downloads\\project_ineuron\\insurence_premium_prediction\\env\\lib\\site-packages\\evidently\\dashboard\\__init__.py:8: UserWarning: dashboards are deprecated, use metrics instead\n",
      "  warnings.warn(\"dashboards are deprecated, use metrics instead\")\n"
     ]
    }
   ],
   "source": [
    "from evidently.model_profile import Profile\n",
    "from evidently.model_profile.sections import DataDriftProfileSection\n",
    "from evidently.dashboard import Dashboard\n",
    "from evidently.dashboard.tabs import DataDriftTab\n",
    "import json"
   ]
  },
  {
   "cell_type": "code",
   "execution_count": 64,
   "metadata": {},
   "outputs": [
    {
     "ename": "TypeError",
     "evalue": "'ConfigurationManager' object is not callable",
     "output_type": "error",
     "traceback": [
      "\u001b[1;31m---------------------------------------------------------------------------\u001b[0m",
      "\u001b[1;31mTypeError\u001b[0m                                 Traceback (most recent call last)",
      "Cell \u001b[1;32mIn[64], line 1\u001b[0m\n\u001b[1;32m----> 1\u001b[0m con()\n",
      "\u001b[1;31mTypeError\u001b[0m: 'ConfigurationManager' object is not callable"
     ]
    }
   ],
   "source": [
    "con."
   ]
  },
  {
   "cell_type": "code",
   "execution_count": null,
   "metadata": {},
   "outputs": [],
   "source": [
    "def get_and_save_data_drift_report():\n",
    "        try:\n",
    "            profile =Profile(sections=[DataDriftProfileSection()])\n",
    "            train_df=con().get_data_ingestion().train_file_path\n",
    "            test_df= con().get_data_ingestion().train_file_path\n",
    "\n",
    "            profile.calculate(train_df,test_df)\n",
    "            report=json.loads(profile.json())\n",
    "            report_file_path = self.data_validation_config.report_file_path\n",
    "            report_dir = os.path.dirname(report_file_path)\n",
    "            os.makedirs(report_dir,exist_ok=True)    \n",
    "\n",
    "            write_json(report_file_path,report)\n",
    "            return report\n",
    "        except Exception as e:\n",
    "            raise e    "
   ]
  }
 ],
 "metadata": {
  "kernelspec": {
   "display_name": "Python 3",
   "language": "python",
   "name": "python3"
  },
  "language_info": {
   "codemirror_mode": {
    "name": "ipython",
    "version": 3
   },
   "file_extension": ".py",
   "mimetype": "text/x-python",
   "name": "python",
   "nbconvert_exporter": "python",
   "pygments_lexer": "ipython3",
   "version": "3.8.16"
  },
  "orig_nbformat": 4
 },
 "nbformat": 4,
 "nbformat_minor": 2
}
